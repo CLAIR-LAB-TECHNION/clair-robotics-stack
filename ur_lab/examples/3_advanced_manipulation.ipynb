{
 "cells": [
  {
   "metadata": {},
   "cell_type": "markdown",
   "source": [
    "# Robot With Motion Planner\n",
    "\n",
    "The robot with motion planner slightly extends the robot interface presented in the first tutorial, by adding motion planning capabilities based on the motion planner introduced in tutorial 2. This is basically a combination of them with few more features. To create an instance, a motion planner should be provided. Note that it can be an extension of the motion planner that you can implement with different geometry as shown in tutorial 2. The controller is agnostic to your geometry and motion planner implementation, as long as it implements the abstract motion planner interface."
   ],
   "id": "3538124d9f19da48"
  },
  {
   "metadata": {},
   "cell_type": "code",
   "source": [
    "from ur_lab.manipulation.robot_with_motion_planning import RobotInterfaceWithMP\n",
    "from ur_lab.robot_inteface.robots_metadata import ur5e_1\n",
    "\n",
    "# from previous tutorial:\n",
    "from ur_lab.motion_planning.motion_planner import MotionPlanner\n",
    "from ur_lab.motion_planning.geometry_and_transforms import GeometryAndTransforms\n",
    "\n",
    "mp = MotionPlanner()\n",
    "gt = GeometryAndTransforms.from_motion_planner(mp)\n",
    "robot = RobotInterfaceWithMP(ur5e_1[\"ip\"], ur5e_1[\"name\"], mp, gt)\n",
    "\n",
    "# shortcut for convenience:\n",
    "# robot = RobotInterfaceWithMP.build_from_robot_name_and_ip(ur5e_1[\"ip\"], ur5e_1[\"name\"])"
   ],
   "id": "a543a4d874ffcf2",
   "outputs": [],
   "execution_count": null
  },
  {
   "metadata": {},
   "cell_type": "markdown",
   "source": [
    "plan_and_moveJ method moves to a specified config. If there is no direct path available it already handles the motion planning for you. Note that there is a plan_and_move_home method that you can use for better safety than move_home."
   ],
   "id": "fb70e12a078d5f28"
  },
  {
   "metadata": {},
   "cell_type": "code",
   "source": [
    "q1 = [0.03923, -1.76654, -2.27161, -2.19254, 0.40798, 3.07572]\n",
    "q2 = [-0.06798, -1.84265, -2.65451, 1.33179, 1.61574, 1.64959]\n",
    "\n",
    "robot.plan_and_move_home()\n",
    "robot.plan_and_moveJ(q1)\n",
    "\n",
    "# No direct path available, motion planning is needed:\n",
    "robot.plan_and_moveJ(q2)"
   ],
   "id": "4280304d7af6a3be",
   "outputs": [],
   "execution_count": null
  },
  {
   "metadata": {},
   "cell_type": "markdown",
   "source": [
    "This interface also has another method that may be helpful, plan_and_move_to_xyzrz will move the end effector to the desired cartesian coordinates with the gripper facing down, rotated around z axis by rz. This is useful for some pick and place tasks. It can be be followed by a linear movement downward, or even move_until_contact to pick an object."
   ],
   "id": "f84bfd6d357a8b02"
  },
  {
   "metadata": {},
   "cell_type": "code",
   "source": [
    "robot.plan_and_move_home()\n",
    "\n",
    "import numpy as np\n",
    "robot.plan_and_move_to_xyzrz(x=0.4, y=0.0, z=0.2, rz=0)\n",
    "robot.plan_and_move_to_xyzrz(x=0.5, y=-0.2, z=0.2, rz=-np.pi/2)\n",
    "robot.plan_and_move_to_xyzrz(x=0.5, y=-0.2, z=0.2, rz=-3*np.pi/4)"
   ],
   "id": "d4f67dbd8b239f0a",
   "outputs": [],
   "execution_count": null
  },
  {
   "metadata": {},
   "cell_type": "markdown",
   "source": [
    "``Note: Similarely to the motion planner, in such non-native interfaces x, y, z are in world coordinates and not in robot base coordinates. The origin of the world coordinates is the coordinates in the klampt world file that the motion planner uses``"
   ],
   "id": "f328f9bdb78e5fd5"
  },
  {
   "metadata": {},
   "cell_type": "markdown",
   "source": [
    "# Manipulation Interface\n",
    "Another extension for the robot interface is the manipulation interface. It extends the robot interface with gripper control and pick and place capabilities. It is built on top of the robot with motion planning interface, so it has all the capabilities of the previous interface.\n",
    "\n",
    "The inheritance hierarchy can be viewed in the following diagram:\n",
    "\n",
    "\n",
    "<img src=\"assets/robots_arch.png\" width=\"700\"/>\n",
    "\n",
    "Note that the grasping methods will do nothing unless there is a gripper installed on the robot. Here we show the 2FG gripper interface. Note that there is another interface for the Vacuum gripper which is similar but slightly different.\n",
    "There is a bit more than what we show here, feel free to view the implementation and the interface."
   ],
   "id": "3ee19a6b1663d480"
  },
  {
   "metadata": {},
   "cell_type": "code",
   "source": [
    "del robot # we are going to open a new connection to the robot through different interface. Need to close this one."
   ],
   "id": "bffd53a62f1f1d4e",
   "outputs": [],
   "execution_count": null
  },
  {
   "cell_type": "markdown",
   "source": [
    "The 2FG manipulation controller inherits the robot with motion planning interface, so it has all the capabilities of the previous interface:"
   ],
   "metadata": {
    "collapsed": false
   }
  },
  {
   "metadata": {},
   "cell_type": "code",
   "source": [
    "from ur_lab.manipulation.manipulation_controller_2fg import ManipulationController2FG\n",
    "from ur_lab.robot_inteface.robots_metadata import ur5e_1\n",
    "import numpy as np\n",
    "\n",
    "robot = ManipulationController2FG.build_from_robot_name_and_ip(ur5e_1[\"ip\"], ur5e_1[\"name\"])\n",
    "robot.plan_and_move_home()\n",
    "\n",
    "robot.plan_and_moveJ([0, -np.pi/2, -np.pi/2, -np.pi/2, np.pi/2, 0])"
   ],
   "id": "3d44afb25bf2d861",
   "outputs": [],
   "execution_count": null
  },
  {
   "cell_type": "markdown",
   "source": [
    "Gripper control:"
   ],
   "metadata": {
    "collapsed": false
   }
  },
  {
   "metadata": {},
   "cell_type": "code",
   "source": [
    "robot.grasp()"
   ],
   "id": "1b4dc73ec308d459",
   "outputs": [],
   "execution_count": null
  },
  {
   "metadata": {},
   "cell_type": "code",
   "source": [
    "robot.release_grasp()"
   ],
   "id": "75ff9c7ee852733f",
   "outputs": [],
   "execution_count": null
  },
  {
   "cell_type": "markdown",
   "source": [
    "Note that there are arguments to control force, speed, and width. There is also wait time for the program to block the next action. This is useful to prevent the next movement action after grasp from starting before the gripper is fully closed."
   ],
   "metadata": {
    "collapsed": false
   }
  },
  {
   "metadata": {},
   "cell_type": "code",
   "source": [
    "robot.grasp(wait_time=0.2, force=2, speed=10, width=60)"
   ],
   "id": "11d2dc77391a117f",
   "outputs": [],
   "execution_count": null
  },
  {
   "cell_type": "markdown",
   "source": [
    "## Generalized Pick and Place"
   ],
   "metadata": {
    "collapsed": false
   }
  },
  {
   "metadata": {},
   "cell_type": "code",
   "source": [
    "point = [0.4, -0.4, 0.2]\n",
    "# come from above:\n",
    "robot.pick_up_at_angle(point=point, start_offset=[0, 0, 0.1], ee_rz=np.pi)\n",
    "# come from 45 degrees above and the negative y direction:\n",
    "robot.pick_up_at_angle(point=point, start_offset=[0, 0.1, 0.1], ee_rz=np.pi)\n",
    "# same but rotate gripper\n",
    "robot.pick_up_at_angle(point=point, start_offset=[0, 0.1, 0.1], ee_rz=0)\n",
    "# same but start linear movement from further away\n",
    "robot.pick_up_at_angle(point=point, start_offset=[0, 0.2, 0.2], ee_rz=0)"
   ],
   "id": "acea5b3887dd94b5",
   "outputs": [],
   "execution_count": null
  },
  {
   "metadata": {},
   "cell_type": "code",
   "source": [
    "# put down from the side:\n",
    "robot.put_down_at_angle(point=point, start_offset=[-0.1, -0.05, 0], ee_rz=0)"
   ],
   "id": "50a800e883ee24c4",
   "outputs": [],
   "execution_count": null
  },
  {
   "metadata": {},
   "cell_type": "code",
   "source": [
    "robot.plan_and_move_home()"
   ],
   "id": "2daf917203e33b59",
   "outputs": [],
   "execution_count": null
  },
  {
   "metadata": {},
   "cell_type": "markdown",
   "source": [
    "==Point is in world coordinates!=="
   ],
   "id": "7d971c9768193e17"
  },
  {
   "metadata": {},
   "cell_type": "code",
   "outputs": [],
   "execution_count": null,
   "source": [],
   "id": "1ac8f2b1fa386c28"
  }
 ],
 "metadata": {
  "kernelspec": {
   "display_name": "Python 3",
   "language": "python",
   "name": "python3"
  },
  "language_info": {
   "codemirror_mode": {
    "name": "ipython",
    "version": 2
   },
   "file_extension": ".py",
   "mimetype": "text/x-python",
   "name": "python",
   "nbconvert_exporter": "python",
   "pygments_lexer": "ipython2",
   "version": "2.7.6"
  }
 },
 "nbformat": 4,
 "nbformat_minor": 5
}
