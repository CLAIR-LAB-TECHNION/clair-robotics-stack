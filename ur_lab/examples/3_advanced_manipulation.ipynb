{
 "cells": [
  {
   "metadata": {},
   "cell_type": "markdown",
   "source": [
    "# Robot With Motion Planner\n",
    "\n",
    "The robot with motion planner slightly extends the robot interface presented in the first tutorial, by adding motion planning capabilities based on the motion planner introduced in tutorial 2. This is basically a combination of them with few more features. To create an instance, a motion planner should be provided. Note that it can be an extension of the motion planner that you can implement with different geometry as shown in tutorial 2. The controller is agnostic to your geometry and motion planner implementation, as long as it implements the abstract motion planner interface."
   ],
   "id": "3538124d9f19da48"
  },
  {
   "metadata": {
    "ExecuteTime": {
     "end_time": "2025-02-19T12:59:29.779378Z",
     "start_time": "2025-02-19T12:59:27.774975Z"
    }
   },
   "cell_type": "code",
   "source": [
    "from ur_lab.manipulation.robot_with_motion_planning import RobotInterfaceWithMP\n",
    "from ur_lab.robot_inteface.robots_metadata import ur5e_1\n",
    "\n",
    "# from previous tutorial:\n",
    "from ur_lab.motion_planning.motion_planner import MotionPlanner\n",
    "from ur_lab.motion_planning.geometry_and_transforms import GeometryAndTransforms\n",
    "\n",
    "mp = MotionPlanner()\n",
    "gt = GeometryAndTransforms.from_motion_planner(mp)\n",
    "robot = RobotInterfaceWithMP(ur5e_1[\"ip\"], ur5e_1[\"name\"], mp, gt)\n",
    "\n",
    "# shortcut for convinience:\n",
    "# robot = RobotInterfaceWithMP.build_from_robot_name_and_ip(ur5e_1[\"ip\"], ur5e_1[\"name\"])"
   ],
   "id": "a543a4d874ffcf2",
   "outputs": [
    {
     "name": "stdout",
     "output_type": "stream",
     "text": [
      "RobParser: Reading robot file /home/clair01/PycharmProjects/clair-robotics-stack/ur_lab/motion_planning/ur5e_rob/ur5e_hires.rob...\n",
      "RobParser:    Parsing robot file, 8 links read...\n",
      "RobParser: Loaded geometries in time 0.009056s, 11028 total primitive elements\n",
      "RobParser: Done loading robot file /home/clair01/PycharmProjects/clair-robotics-stack/ur_lab/motion_planning/ur5e_rob/ur5e_hires.rob\n",
      "RobParser: Reading robot file /home/clair01/PycharmProjects/clair-robotics-stack/ur_lab/motion_planning/ur5e_rob/ur5e_hires.rob...\n",
      "RobParser:    Parsing robot file, 8 links read...\n",
      "RobParser: Loaded geometries in time 0.025287s, 11028 total primitive elements\n",
      "RobParser: Done loading robot file /home/clair01/PycharmProjects/clair-robotics-stack/ur_lab/motion_planning/ur5e_rob/ur5e_hires.rob\n",
      "*** klampt.vis: using GLUT as the visualization backend ***\n",
      "***      Some functionality may not be available!       ***\n",
      "GLUTWindowManager.createWindow: window title robots_visualization , id 1\n",
      "GLUTWindowManager.show(): first window shown, starting the visualization thread\n",
      "GLUTWindowManager.run_app_thread: creating window with name robots_visualization and status shown\n",
      "GLUTBackend.createWindow robots_visualization\n",
      "Windows [\"Klamp't visualizer (/home/clair01/PycharmProjects/clair-robotics-stack/.venv/lib/python3.10/site-packages/ipykernel_launcher.py)\", 'robots_visualization']\n",
      "GLUTBackend: run with windows ['robots_visualization']\n",
      "Calling glutCreateWindow robots_visualization\n",
      "GLUTWindow robots_visualization Initialized\n",
      "GLUTWindowManager: hiding window 0 (Klamp't visualizer (/home/clair01/PycharmProjects/clair-robotics-stack/.venv/lib/python3.10/site-packages/ipykernel_launcher.py))\n"
     ]
    },
    {
     "name": "stderr",
     "output_type": "stream",
     "text": [
      "/home/clair01/PycharmProjects/clair-robotics-stack/.venv/lib/python3.10/site-packages/klampt/vis/visualization.py:704: UserWarning: klampt.visualization: QT is not available, falling back to poorer\n",
      "GLUT interface.  Returning to another GLUT thread will not work\n",
      "properly.\n",
      "  warnings.warn(\"klampt.visualization: QT is not available, falling back to poorer\\nGLUT interface.  Returning to another GLUT thread will not work\\nproperly.\")\n"
     ]
    }
   ],
   "execution_count": 1
  },
  {
   "metadata": {},
   "cell_type": "markdown",
   "source": "plan_and_moveJ method moves to a specified config, and if there is no direct path available already handles the motion planning for you. Note that there is a plan_and_move_home method that you can use for better safety than move_home.",
   "id": "fb70e12a078d5f28"
  },
  {
   "metadata": {
    "ExecuteTime": {
     "end_time": "2025-02-19T14:52:02.502195Z",
     "start_time": "2025-02-19T14:51:46.231135Z"
    }
   },
   "cell_type": "code",
   "source": [
    "q1 = [0.03923, -1.76654, -2.27161, -2.19254, 0.40798, 3.07572]\n",
    "q2 = [-0.06798, -1.84265, -2.65451, 1.33179, 1.61574, 1.64959]\n",
    "\n",
    "robot.plan_and_move_home()\n",
    "robot.plan_and_moveJ(q1)\n",
    "\n",
    "# No direct path available, motion planning is needed:\n",
    "robot.plan_and_moveJ(q2)"
   ],
   "id": "4280304d7af6a3be",
   "outputs": [
    {
     "name": "stdout",
     "output_type": "stream",
     "text": [
      "planning motion...\n",
      "planning took  0.8056280612945557  seconds.\n"
     ]
    },
    {
     "data": {
      "text/plain": [
       "True"
      ]
     },
     "execution_count": 34,
     "metadata": {},
     "output_type": "execute_result"
    }
   ],
   "execution_count": 34
  },
  {
   "metadata": {},
   "cell_type": "markdown",
   "source": "This interface also has another method that may be helpful, plan_and_move_to_xyzrz will move the end effector to the desired cartesian coordinates with the gripper facing down, rotated around z axis by rz. This is useful for some pick and place tasks. It can be be followed by a linear movement downward, or even move_until_contact to pick an object.",
   "id": "f84bfd6d357a8b02"
  },
  {
   "metadata": {
    "ExecuteTime": {
     "end_time": "2025-02-19T15:02:28.733825Z",
     "start_time": "2025-02-19T15:02:18.211871Z"
    }
   },
   "cell_type": "code",
   "source": [
    "robot.plan_and_move_home()\n",
    "\n",
    "import numpy as np\n",
    "robot.plan_and_move_to_xyzrz(x=0.4, y=0.0, z=0.2, rz=0)\n",
    "robot.plan_and_move_to_xyzrz(x=0.5, y=-0.2, z=0.2, rz=-np.pi/2)\n",
    "robot.plan_and_move_to_xyzrz(x=0.5, y=-0.2, z=0.2, rz=-3*np.pi/4)"
   ],
   "id": "d4f67dbd8b239f0a",
   "outputs": [
    {
     "data": {
      "text/plain": [
       "True"
      ]
     },
     "execution_count": 42,
     "metadata": {},
     "output_type": "execute_result"
    }
   ],
   "execution_count": 42
  },
  {
   "metadata": {},
   "cell_type": "markdown",
   "source": "== Note: x, y, z are in world coordinates and not in robot base coordinates! ==",
   "id": "f328f9bdb78e5fd5"
  },
  {
   "metadata": {},
   "cell_type": "markdown",
   "source": "# Manipulation Interface",
   "id": "3ee19a6b1663d480"
  },
  {
   "metadata": {
    "ExecuteTime": {
     "end_time": "2025-02-19T12:59:45.115859Z",
     "start_time": "2025-02-19T12:59:44.094597Z"
    }
   },
   "cell_type": "code",
   "source": "del robot",
   "id": "bffd53a62f1f1d4e",
   "outputs": [],
   "execution_count": 3
  },
  {
   "metadata": {
    "ExecuteTime": {
     "end_time": "2025-02-19T13:00:10.280169Z",
     "start_time": "2025-02-19T13:00:01.412749Z"
    }
   },
   "cell_type": "code",
   "source": "robot.move_home()",
   "id": "1b4dc73ec308d459",
   "outputs": [],
   "execution_count": 5
  },
  {
   "metadata": {},
   "cell_type": "code",
   "outputs": [],
   "execution_count": null,
   "source": "",
   "id": "11d2dc77391a117f"
  }
 ],
 "metadata": {
  "kernelspec": {
   "display_name": "Python 3",
   "language": "python",
   "name": "python3"
  },
  "language_info": {
   "codemirror_mode": {
    "name": "ipython",
    "version": 2
   },
   "file_extension": ".py",
   "mimetype": "text/x-python",
   "name": "python",
   "nbconvert_exporter": "python",
   "pygments_lexer": "ipython2",
   "version": "2.7.6"
  }
 },
 "nbformat": 4,
 "nbformat_minor": 5
}
