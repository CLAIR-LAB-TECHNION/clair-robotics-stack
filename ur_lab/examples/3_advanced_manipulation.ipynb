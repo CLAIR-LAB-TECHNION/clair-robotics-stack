{
 "cells": [
  {
   "metadata": {},
   "cell_type": "markdown",
   "source": [
    "# Robot With Motion Planner\n",
    "\n",
    "The robot with motion planner slightly extends the robot interface presented in the first tutorial, by adding motion planning capabilities based on the motion planner introduced in tutorial 2. This is basically a combination of them with few more features. To create an instance, a motion planner should be provided. Note that it can be an extension of the motion planner that you can implement with different geometry as shown in tutorial 2. The controller is agnostic to your geometry and motion planner implementation, as long as it implements the abstract motion planner interface."
   ],
   "id": "3538124d9f19da48"
  },
  {
   "metadata": {
    "ExecuteTime": {
     "end_time": "2025-02-19T12:59:29.779378Z",
     "start_time": "2025-02-19T12:59:27.774975Z"
    }
   },
   "cell_type": "code",
   "source": [
    "from ur_lab.manipulation.robot_with_motion_planning import RobotInterfaceWithMP\n",
    "from ur_lab.robot_inteface.robots_metadata import ur5e_1\n",
    "\n",
    "# from previous tutorial:\n",
    "from ur_lab.motion_planning.motion_planner import MotionPlanner\n",
    "from ur_lab.motion_planning.geometry_and_transforms import GeometryAndTransforms\n",
    "\n",
    "mp = MotionPlanner()\n",
    "gt = GeometryAndTransforms.from_motion_planner(mp)\n",
    "robot = RobotInterfaceWithMP(ur5e_1[\"ip\"], ur5e_1[\"name\"], mp, gt)\n",
    "\n",
    "# shortcut for convinience:\n",
    "# robot = RobotInterfaceWithMP.build_from_robot_name_and_ip(ur5e_1[\"ip\"], ur5e_1[\"name\"])"
   ],
   "id": "a543a4d874ffcf2",
   "outputs": [
    {
     "name": "stdout",
     "output_type": "stream",
     "text": [
      "RobParser: Reading robot file /home/clair01/PycharmProjects/clair-robotics-stack/ur_lab/motion_planning/ur5e_rob/ur5e_hires.rob...\n",
      "RobParser:    Parsing robot file, 8 links read...\n",
      "RobParser: Loaded geometries in time 0.009056s, 11028 total primitive elements\n",
      "RobParser: Done loading robot file /home/clair01/PycharmProjects/clair-robotics-stack/ur_lab/motion_planning/ur5e_rob/ur5e_hires.rob\n",
      "RobParser: Reading robot file /home/clair01/PycharmProjects/clair-robotics-stack/ur_lab/motion_planning/ur5e_rob/ur5e_hires.rob...\n",
      "RobParser:    Parsing robot file, 8 links read...\n",
      "RobParser: Loaded geometries in time 0.025287s, 11028 total primitive elements\n",
      "RobParser: Done loading robot file /home/clair01/PycharmProjects/clair-robotics-stack/ur_lab/motion_planning/ur5e_rob/ur5e_hires.rob\n",
      "*** klampt.vis: using GLUT as the visualization backend ***\n",
      "***      Some functionality may not be available!       ***\n",
      "GLUTWindowManager.createWindow: window title robots_visualization , id 1\n",
      "GLUTWindowManager.show(): first window shown, starting the visualization thread\n",
      "GLUTWindowManager.run_app_thread: creating window with name robots_visualization and status shown\n",
      "GLUTBackend.createWindow robots_visualization\n",
      "Windows [\"Klamp't visualizer (/home/clair01/PycharmProjects/clair-robotics-stack/.venv/lib/python3.10/site-packages/ipykernel_launcher.py)\", 'robots_visualization']\n",
      "GLUTBackend: run with windows ['robots_visualization']\n",
      "Calling glutCreateWindow robots_visualization\n",
      "GLUTWindow robots_visualization Initialized\n",
      "GLUTWindowManager: hiding window 0 (Klamp't visualizer (/home/clair01/PycharmProjects/clair-robotics-stack/.venv/lib/python3.10/site-packages/ipykernel_launcher.py))\n"
     ]
    },
    {
     "name": "stderr",
     "output_type": "stream",
     "text": [
      "/home/clair01/PycharmProjects/clair-robotics-stack/.venv/lib/python3.10/site-packages/klampt/vis/visualization.py:704: UserWarning: klampt.visualization: QT is not available, falling back to poorer\n",
      "GLUT interface.  Returning to another GLUT thread will not work\n",
      "properly.\n",
      "  warnings.warn(\"klampt.visualization: QT is not available, falling back to poorer\\nGLUT interface.  Returning to another GLUT thread will not work\\nproperly.\")\n"
     ]
    }
   ],
   "execution_count": 1
  },
  {
   "metadata": {},
   "cell_type": "markdown",
   "source": [
    "plan_and_moveJ method moves to a specified config, and if there is no direct path available already handles the motion planning for you. Note that there is a plan_and_move_home method that you can use for better safety than move_home."
   ],
   "id": "fb70e12a078d5f28"
  },
  {
   "metadata": {
    "ExecuteTime": {
     "end_time": "2025-02-19T14:52:02.502195Z",
     "start_time": "2025-02-19T14:51:46.231135Z"
    }
   },
   "cell_type": "code",
   "source": [
    "q1 = [0.03923, -1.76654, -2.27161, -2.19254, 0.40798, 3.07572]\n",
    "q2 = [-0.06798, -1.84265, -2.65451, 1.33179, 1.61574, 1.64959]\n",
    "\n",
    "robot.plan_and_move_home()\n",
    "robot.plan_and_moveJ(q1)\n",
    "\n",
    "# No direct path available, motion planning is needed:\n",
    "robot.plan_and_moveJ(q2)"
   ],
   "id": "4280304d7af6a3be",
   "outputs": [
    {
     "name": "stdout",
     "output_type": "stream",
     "text": [
      "planning motion...\n",
      "planning took  0.8056280612945557  seconds.\n"
     ]
    },
    {
     "data": {
      "text/plain": [
       "True"
      ]
     },
     "execution_count": 34,
     "metadata": {},
     "output_type": "execute_result"
    }
   ],
   "execution_count": 34
  },
  {
   "metadata": {},
   "cell_type": "markdown",
   "source": [
    "This interface also has another method that may be helpful, plan_and_move_to_xyzrz will move the end effector to the desired cartesian coordinates with the gripper facing down, rotated around z axis by rz. This is useful for some pick and place tasks. It can be be followed by a linear movement downward, or even move_until_contact to pick an object."
   ],
   "id": "f84bfd6d357a8b02"
  },
  {
   "metadata": {
    "ExecuteTime": {
     "end_time": "2025-02-19T15:02:28.733825Z",
     "start_time": "2025-02-19T15:02:18.211871Z"
    }
   },
   "cell_type": "code",
   "source": [
    "robot.plan_and_move_home()\n",
    "\n",
    "import numpy as np\n",
    "robot.plan_and_move_to_xyzrz(x=0.4, y=0.0, z=0.2, rz=0)\n",
    "robot.plan_and_move_to_xyzrz(x=0.5, y=-0.2, z=0.2, rz=-np.pi/2)\n",
    "robot.plan_and_move_to_xyzrz(x=0.5, y=-0.2, z=0.2, rz=-3*np.pi/4)"
   ],
   "id": "d4f67dbd8b239f0a",
   "outputs": [
    {
     "data": {
      "text/plain": [
       "True"
      ]
     },
     "execution_count": 42,
     "metadata": {},
     "output_type": "execute_result"
    }
   ],
   "execution_count": 42
  },
  {
   "metadata": {},
   "cell_type": "markdown",
   "source": [
    "==Note: x, y, z are in world coordinates and not in robot base coordinates!=="
   ],
   "id": "f328f9bdb78e5fd5"
  },
  {
   "metadata": {},
   "cell_type": "markdown",
   "source": [
    "# Manipulation Interface\n",
    "\n",
    "Another extension,\n",
    "look at methods. Gripper, pick up from different directions...\n",
    "There is vg also\n",
    "There's a bit more, see the interface.."
   ],
   "id": "3ee19a6b1663d480"
  },
  {
   "metadata": {},
   "cell_type": "code",
   "source": [
    "del robot # we are going to open a new connection to the robot through different interface. Need to close this one."
   ],
   "id": "bffd53a62f1f1d4e",
   "outputs": [],
   "execution_count": null
  },
  {
   "metadata": {
    "ExecuteTime": {
     "end_time": "2025-02-19T15:22:34.869509Z",
     "start_time": "2025-02-19T15:22:25.825413Z"
    }
   },
   "cell_type": "code",
   "source": [
    "from ur_lab.manipulation.manipulation_controller_2fg import ManipulationController2FG\n",
    "from ur_lab.robot_inteface.robots_metadata import ur5e_1\n",
    "import numpy as np\n",
    "\n",
    "robot = ManipulationController2FG.build_from_robot_name_and_ip(ur5e_1[\"ip\"], ur5e_1[\"name\"])\n",
    "robot.plan_and_move_home()\n",
    "\n",
    "robot.plan_and_moveJ([0, -np.pi/2, -np.pi/2, -np.pi/2, np.pi/2, 0])"
   ],
   "id": "3d44afb25bf2d861",
   "outputs": [
    {
     "name": "stdout",
     "output_type": "stream",
     "text": [
      "RobParser: Reading robot file /home/clair01/PycharmProjects/clair-robotics-stack/ur_lab/motion_planning/ur5e_rob/ur5e_hires.rob...\n",
      "RobParser:    Parsing robot file, 8 links read...\n",
      "RobParser: Loaded geometries in time 0.009089s, 11028 total primitive elements\n",
      "RobParser: Done loading robot file /home/clair01/PycharmProjects/clair-robotics-stack/ur_lab/motion_planning/ur5e_rob/ur5e_hires.rob\n",
      "RobParser: Reading robot file /home/clair01/PycharmProjects/clair-robotics-stack/ur_lab/motion_planning/ur5e_rob/ur5e_hires.rob...\n",
      "RobParser:    Parsing robot file, 8 links read...\n",
      "RobParser: Loaded geometries in time 0.025428s, 11028 total primitive elements\n",
      "RobParser: Done loading robot file /home/clair01/PycharmProjects/clair-robotics-stack/ur_lab/motion_planning/ur5e_rob/ur5e_hires.rob\n",
      "*** klampt.vis: using GLUT as the visualization backend ***\n",
      "***      Some functionality may not be available!       ***\n",
      "GLUTWindowManager.createWindow: window title robots_visualization , id 1\n",
      "GLUTWindowManager.show(): first window shown, starting the visualization thread\n",
      "GLUTWindowManager.run_app_thread: creating window with name robots_visualization and status shown\n",
      "GLUTBackend.createWindow robots_visualization\n",
      "Windows [\"Klamp't visualizer (/home/clair01/PycharmProjects/clair-robotics-stack/.venv/lib/python3.10/site-packages/ipykernel_launcher.py)\", 'robots_visualization']\n",
      "GLUTBackend: run with windows ['robots_visualization']\n",
      "Calling glutCreateWindow robots_visualization\n",
      "GLUTWindow robots_visualization Initialized\n",
      "GLUTWindowManager: hiding window 0 (Klamp't visualizer (/home/clair01/PycharmProjects/clair-robotics-stack/.venv/lib/python3.10/site-packages/ipykernel_launcher.py))\n"
     ]
    },
    {
     "name": "stderr",
     "output_type": "stream",
     "text": [
      "/home/clair01/PycharmProjects/clair-robotics-stack/.venv/lib/python3.10/site-packages/klampt/vis/visualization.py:704: UserWarning: klampt.visualization: QT is not available, falling back to poorer\n",
      "GLUT interface.  Returning to another GLUT thread will not work\n",
      "properly.\n",
      "  warnings.warn(\"klampt.visualization: QT is not available, falling back to poorer\\nGLUT interface.  Returning to another GLUT thread will not work\\nproperly.\")\n"
     ]
    },
    {
     "data": {
      "text/plain": [
       "True"
      ]
     },
     "execution_count": 1,
     "metadata": {},
     "output_type": "execute_result"
    }
   ],
   "execution_count": 1
  },
  {
   "metadata": {
    "ExecuteTime": {
     "end_time": "2025-02-19T15:22:44.920329Z",
     "start_time": "2025-02-19T15:22:44.408760Z"
    }
   },
   "cell_type": "code",
   "source": [
    "robot.grasp()"
   ],
   "id": "1b4dc73ec308d459",
   "outputs": [],
   "execution_count": 2
  },
  {
   "metadata": {
    "ExecuteTime": {
     "end_time": "2025-02-19T15:22:45.452082Z",
     "start_time": "2025-02-19T15:22:44.937186Z"
    }
   },
   "cell_type": "code",
   "source": [
    "robot.release_grasp()"
   ],
   "id": "75ff9c7ee852733f",
   "outputs": [],
   "execution_count": 3
  },
  {
   "metadata": {
    "ExecuteTime": {
     "end_time": "2025-02-19T15:22:45.687392Z",
     "start_time": "2025-02-19T15:22:45.473154Z"
    }
   },
   "cell_type": "code",
   "source": [
    "robot.grasp(wait_time=0.2, force=2, speed=10, width=60)"
   ],
   "id": "11d2dc77391a117f",
   "outputs": [],
   "execution_count": 4
  },
  {
   "metadata": {
    "ExecuteTime": {
     "end_time": "2025-02-19T15:23:48.635358Z",
     "start_time": "2025-02-19T15:23:08.221181Z"
    }
   },
   "cell_type": "code",
   "source": [
    "point = [0.4, -0.4, 0.2]\n",
    "# come from above:\n",
    "robot.pick_up_at_angle(point=point, start_offset=[0, 0, 0.1], ee_rz=np.pi)\n",
    "# come from 45 degrees above and the negative y direction:\n",
    "robot.pick_up_at_angle(point=point, start_offset=[0, 0.1, 0.1], ee_rz=np.pi)\n",
    "# same but rotate gripper\n",
    "robot.pick_up_at_angle(point=point, start_offset=[0, 0.1, 0.1], ee_rz=0)\n",
    "# same but start linear movement from further away\n",
    "robot.pick_up_at_angle(point=point, start_offset=[0, 0.2, 0.2], ee_rz=0)"
   ],
   "id": "acea5b3887dd94b5",
   "outputs": [],
   "execution_count": 6
  },
  {
   "metadata": {
    "ExecuteTime": {
     "end_time": "2025-02-19T15:24:20.953937Z",
     "start_time": "2025-02-19T15:24:14.403331Z"
    }
   },
   "cell_type": "code",
   "source": [
    "# put down from the side:\n",
    "robot.put_down_at_angle(point=point, start_offset=[-0.1, -0.05, 0], ee_rz=0)"
   ],
   "id": "50a800e883ee24c4",
   "outputs": [],
   "execution_count": 8
  },
  {
   "metadata": {
    "ExecuteTime": {
     "end_time": "2025-02-19T15:14:56.090294Z",
     "start_time": "2025-02-19T15:14:53.205794Z"
    }
   },
   "cell_type": "code",
   "source": [
    "robot.plan_and_move_home()"
   ],
   "id": "2daf917203e33b59",
   "outputs": [],
   "execution_count": 9
  },
  {
   "metadata": {},
   "cell_type": "markdown",
   "source": [
    "==Point is in world coordinates!=="
   ],
   "id": "7d971c9768193e17"
  },
  {
   "metadata": {},
   "cell_type": "code",
   "outputs": [],
   "execution_count": null,
   "source": [],
   "id": "1ac8f2b1fa386c28"
  }
 ],
 "metadata": {
  "kernelspec": {
   "display_name": "Python 3",
   "language": "python",
   "name": "python3"
  },
  "language_info": {
   "codemirror_mode": {
    "name": "ipython",
    "version": 2
   },
   "file_extension": ".py",
   "mimetype": "text/x-python",
   "name": "python",
   "nbconvert_exporter": "python",
   "pygments_lexer": "ipython2",
   "version": "2.7.6"
  }
 },
 "nbformat": 4,
 "nbformat_minor": 5
}
