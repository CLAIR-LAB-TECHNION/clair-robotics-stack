{
 "cells": [
  {
   "metadata": {},
   "cell_type": "markdown",
   "source": [
    "This is an example of the basic interface to control and get information from the robot.\n",
    "The basic robot interface basically just inherits ur_rtde intefaces.\n",
    "There is a lot more in that interface than what is shown here, it can be found in the ur_rtde documentation:\n",
    "https://sdurobotics.gitlab.io/ur_rtde/api/api.html"
   ],
   "id": "384e983fecbb33ac"
  },
  {
   "metadata": {},
   "cell_type": "markdown",
   "source": [
    "# Robot Controller\n",
    "To create a robot controller instance, we need the robot's information first: it's IP address.\n",
    "it is saved in the robot metadata:\n"
   ],
   "id": "7948669f0622a6fd"
  },
  {
   "metadata": {
    "ExecuteTime": {
     "end_time": "2025-02-19T10:40:45.554123Z",
     "start_time": "2025-02-19T10:40:45.549927Z"
    }
   },
   "cell_type": "code",
   "source": [
    "from ur_lab.robot_inteface.robots_metadata import ur5e_1\n",
    "print(\"Robot metadata: \", ur5e_1)"
   ],
   "id": "596a8c208c02fbec",
   "outputs": [
    {
     "name": "stdout",
     "output_type": "stream",
     "text": [
      "Robot metadata:  {'name': 'ur5e_1', 'ip': '192.168.0.10'}\n"
     ]
    }
   ],
   "execution_count": 1
  },
  {
   "metadata": {},
   "cell_type": "markdown",
   "source": "Create instance of robot controller and move the robot to the home configuration:",
   "id": "e7689ff41c2d43f4"
  },
  {
   "metadata": {
    "ExecuteTime": {
     "end_time": "2025-02-19T10:40:54.119902Z",
     "start_time": "2025-02-19T10:40:46.417472Z"
    }
   },
   "cell_type": "code",
   "source": [
    "from ur_lab.robot_inteface.robot_interface import RobotInterface\n",
    "\n",
    "robot = RobotInterface(ur5e_1[\"ip\"])\n",
    "robot.move_home()"
   ],
   "id": "9e455d501e064f3c",
   "outputs": [],
   "execution_count": 2
  },
  {
   "metadata": {},
   "cell_type": "markdown",
   "source": [
    "Commands in this tutorial, such as move_home and others are not considering collisions (no motion planning). If you apply them and there is a collision or the robot is in a singular configuration, the robot will stop and you will have to manually move it back to a safe configuration.\n",
    "If the robot collided in the last cell, just move it manually to the home config before you continue."
   ],
   "id": "de5080b6ac75ccf6"
  },
  {
   "metadata": {},
   "cell_type": "markdown",
   "source": [
    "# Joint Space\n",
    "\n",
    "The robot configuration is a vector of the angles (in radians) of all it's joints. There are 6 joints that can be between [-2pi, 2pi].\n",
    "However, sometimes it is recommended to limit to [-pi, pi], as some joints cant reach the full range when the\n",
    "robot is on a table, and reducing the range reduces the configuration space when motion planning. Also, when some joints reach the edges, cables can get wrapped around the robot and make it stop.\n",
    "\n",
    "get current robot configuration, which is the home configuration:\n"
   ],
   "id": "47586c1d3bb3d919"
  },
  {
   "metadata": {
    "ExecuteTime": {
     "end_time": "2025-02-19T10:42:17.038068Z",
     "start_time": "2025-02-19T10:42:17.036038Z"
    }
   },
   "cell_type": "code",
   "source": [
    "q = robot.getActualQ()\n",
    "print(\"robot configuration at home: \", q)"
   ],
   "id": "52a836e09a826d53",
   "outputs": [
    {
     "name": "stdout",
     "output_type": "stream",
     "text": [
      "robot configuration at home:  [1.1920928955078125e-06, -1.5708047352232875, 2.843538393193512e-05, -1.570781666275554, -5.547200338185121e-06, 1.0764599210233428e-05]\n"
     ]
    }
   ],
   "execution_count": 5
  },
  {
   "metadata": {},
   "cell_type": "markdown",
   "source": "move it in each joint separately, by 10 degrees, then move back home (all joints at once):",
   "id": "a5d9a39812277462"
  },
  {
   "metadata": {
    "ExecuteTime": {
     "end_time": "2025-02-19T09:44:32.972191Z",
     "start_time": "2025-02-19T09:44:16.885556Z"
    }
   },
   "cell_type": "code",
   "source": [
    "import time\n",
    "\n",
    "new_q = q.copy()\n",
    "for i in range(6):\n",
    "    new_q[i] += 20 * 3.14 / 180\n",
    "    robot.moveJ(new_q, speed=0.3, acceleration=0.3)\n",
    "    time.sleep(0.5)"
   ],
   "id": "633351337bb1ffc0",
   "outputs": [],
   "execution_count": 4
  },
  {
   "metadata": {
    "ExecuteTime": {
     "end_time": "2025-02-19T09:44:38.298786Z",
     "start_time": "2025-02-19T09:44:37.095164Z"
    }
   },
   "cell_type": "code",
   "source": "robot.moveJ(q, speed=1, acceleration=1)",
   "id": "c6f50876c8a665ad",
   "outputs": [
    {
     "data": {
      "text/plain": [
       "True"
      ]
     },
     "execution_count": 5,
     "metadata": {},
     "output_type": "execute_result"
    }
   ],
   "execution_count": 5
  },
  {
   "metadata": {},
   "cell_type": "markdown",
   "source": [
    "Note the speed and acceleration, this is the speed of the joint in rad/s, and the acceleration in rad/s^2.\n",
    "It is recommended to do your tests with low speeds (~0.3) and when everything works safely you can increase."
   ],
   "id": "50c4d20fcf268afe"
  },
  {
   "metadata": {},
   "cell_type": "markdown",
   "source": [
    "## Move Path\n",
    "\n",
    "There is an option to move the robot through a path of configurations, this is useful for complex motions.\n",
    "It can simply be done by passing a list of configurations to the move_path function.\n"
   ],
   "id": "9449f601e638a005"
  },
  {
   "metadata": {
    "ExecuteTime": {
     "end_time": "2025-02-19T10:43:09.253659Z",
     "start_time": "2025-02-19T10:42:55.612038Z"
    }
   },
   "cell_type": "code",
   "source": [
    "import numpy as np\n",
    "\n",
    "# make sure robot at home first:\n",
    "robot.move_home()\n",
    "\n",
    "q_path = [[-np.pi/10, -np.pi/2 -np.pi/8, np.pi/4, -np.pi/2, 0, 0],\n",
    "          [np.pi/10, -np.pi/2  -np.pi/6, np.pi/4, -np.pi/2, np.pi/5, 0],\n",
    "          [np.pi/8, -np.pi/2 , np.pi/4, -np.pi/2, np.pi/5, np.pi/5],\n",
    "          q]\n",
    "\n",
    "robot.move_path(q_path, speed=0.3, acceleration=0.3, blend_radius=0.0)"
   ],
   "id": "76ffa9c49f466cdb",
   "outputs": [],
   "execution_count": 7
  },
  {
   "metadata": {},
   "cell_type": "markdown",
   "source": [
    "Note how the robot moves to each config in the path, then slows down to a stop before moving to the next one.\n",
    "If we want that movement to be continuous, which mean the robot will not slow to a complete stop before moving to the next configuration on the path, but will blend the movement between the configurations, we can set the blend_radius to a value greater than 0. This will make the robot move smoothly between the configurations.\n",
    "\n",
    "This should look smoother and be faster since the robot doesn't reach a complete stop between the configurations:"
   ],
   "id": "36ddf204c7119ac0"
  },
  {
   "metadata": {
    "ExecuteTime": {
     "end_time": "2025-02-19T10:43:44.012800Z",
     "start_time": "2025-02-19T10:43:33.153445Z"
    }
   },
   "cell_type": "code",
   "source": "robot.move_path(q_path, speed=0.3, acceleration=0.3, blend_radius=0.1)",
   "id": "8a10ff341a87cf6c",
   "outputs": [],
   "execution_count": 9
  },
  {
   "metadata": {},
   "cell_type": "markdown",
   "source": "## Move Asynchronously",
   "id": "f242773668d8341d"
  },
  {
   "metadata": {},
   "cell_type": "markdown",
   "source": [
    "Movement commands can be asynchronous, which means that the command will return immediately and the robot will start moving in the background while you can run code concurrently. This can be doen by passing the asynchronous=True argument to movement functions.\n",
    "If another command is sent to the robot while it is moving, the robot will stop the current movement and start the new one."
   ],
   "id": "cc797ffbe068b6b9"
  },
  {
   "metadata": {
    "ExecuteTime": {
     "end_time": "2025-02-19T10:51:03.591922Z",
     "start_time": "2025-02-19T10:50:53.204205Z"
    }
   },
   "cell_type": "code",
   "source": [
    "robot.move_path(q_path, speed=0.3, acceleration=0.3, blend_radius=0.05, asynchronous=True)\n",
    "time.sleep(0.5)\n",
    "print(\"this is being printed while the robot is moving\")\n",
    "print(\"joint velocities:\", robot.getActualQd())\n",
    "time.sleep(5)\n",
    "print(\"stopping robot in the middle of the path\")\n",
    "robot.stopJ()\n",
    "\n",
    "robot.move_home()"
   ],
   "id": "4e8c87003f383d06",
   "outputs": [
    {
     "name": "stdout",
     "output_type": "stream",
     "text": [
      "this is being printed while the robot is moving\n",
      "joint velocities: [-0.0026534826029092073, -0.13892582058906555, 0.03717377781867981, -0.0, 0.029471246525645256, -0.14168062806129456]\n",
      "stopping robot in the middle of the path\n"
     ]
    }
   ],
   "execution_count": 14
  },
  {
   "metadata": {},
   "cell_type": "markdown",
   "source": "# Cartesian Space",
   "id": "dc98150f6718c6d4"
  },
  {
   "metadata": {
    "ExecuteTime": {
     "end_time": "2025-02-19T10:52:01.167614Z",
     "start_time": "2025-02-19T10:52:01.149726Z"
    }
   },
   "cell_type": "code",
   "source": [
    "robot.move_home()\n",
    "\n",
    "pose = robot.getActualTCPPose()\n",
    "print(\"robot pose at home: \", pose)"
   ],
   "id": "b1db769bf58afd78",
   "outputs": [
    {
     "name": "stdout",
     "output_type": "stream",
     "text": [
      "robot pose at home:  [-0.002555864064543423, -0.37057366730368074, 1.0809860021668733, -0.007722413265855482, -2.214470623617691, 2.221465386183995]\n"
     ]
    }
   ],
   "execution_count": 16
  },
  {
   "metadata": {},
   "cell_type": "code",
   "outputs": [],
   "execution_count": null,
   "source": "",
   "id": "165e4435787ff98d"
  }
 ],
 "metadata": {
  "kernelspec": {
   "name": "python3",
   "language": "python",
   "display_name": "Python 3 (ipykernel)"
  }
 },
 "nbformat": 5,
 "nbformat_minor": 9
}
