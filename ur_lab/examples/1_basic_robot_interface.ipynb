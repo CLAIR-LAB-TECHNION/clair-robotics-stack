{
 "cells": [
  {
   "metadata": {},
   "cell_type": "markdown",
   "source": [
    "This is an example of the basic interface to control and get information from the robot.\n",
    "The basic robot interface basically just inherits ur_rtde intefaces.\n",
    "There is a lot more in that interface than what is shown here, it can be found in the ur_rtde documentation:\n",
    "https://sdurobotics.gitlab.io/ur_rtde/api/api.html"
   ],
   "id": "384e983fecbb33ac"
  },
  {
   "metadata": {},
   "cell_type": "markdown",
   "source": [
    "# Robot Controller\n",
    "To create a robot controller instance, we need the robot's information first: it's IP address.\n",
    "it is saved in the robot metadata:\n"
   ],
   "id": "7948669f0622a6fd"
  },
  {
   "metadata": {
    "ExecuteTime": {
     "end_time": "2025-02-19T11:20:44.304931Z",
     "start_time": "2025-02-19T11:20:44.296163Z"
    }
   },
   "cell_type": "code",
   "source": [
    "from ur_lab.robot_inteface.robots_metadata import ur5e_1\n",
    "print(\"Robot metadata: \", ur5e_1)"
   ],
   "id": "596a8c208c02fbec",
   "outputs": [
    {
     "name": "stdout",
     "output_type": "stream",
     "text": [
      "Robot metadata:  {'name': 'ur5e_1', 'ip': '192.168.0.10'}\n"
     ]
    }
   ],
   "execution_count": 1
  },
  {
   "metadata": {},
   "cell_type": "markdown",
   "source": [
    "Create instance of robot controller and move the robot to the home configuration:"
   ],
   "id": "e7689ff41c2d43f4"
  },
  {
   "metadata": {
    "ExecuteTime": {
     "end_time": "2025-02-19T11:20:49.063520Z",
     "start_time": "2025-02-19T11:20:46.642190Z"
    }
   },
   "cell_type": "code",
   "source": [
    "from ur_lab.robot_inteface.robot_interface import RobotInterface\n",
    "\n",
    "robot = RobotInterface(ur5e_1[\"ip\"])\n",
    "robot.move_home()"
   ],
   "id": "9e455d501e064f3c",
   "outputs": [],
   "execution_count": 2
  },
  {
   "metadata": {},
   "cell_type": "markdown",
   "source": [
    "Commands in this tutorial, such as move_home and others are not considering collisions (no motion planning). If you apply them and there is a collision or the robot is in a singular configuration, the robot will stop and you will have to manually move it back to a safe configuration.\n",
    "If the robot collided in the last cell, just move it manually to the home config before you continue."
   ],
   "id": "de5080b6ac75ccf6"
  },
  {
   "metadata": {},
   "cell_type": "markdown",
   "source": [
    "# Joint Space\n",
    "\n",
    "The robot configuration is a vector of the angles (in radians) of all it's joints. There are 6 joints that can be between [-2pi, 2pi].\n",
    "However, sometimes it is recommended to limit to [-pi, pi], as some joints cant reach the full range when the\n",
    "robot is on a table, and reducing the range reduces the configuration space when motion planning. Also, when some joints reach the edges, cables can get wrapped around the robot and make it stop.\n",
    "\n",
    "get current robot configuration, which is the home configuration:\n"
   ],
   "id": "47586c1d3bb3d919"
  },
  {
   "metadata": {
    "ExecuteTime": {
     "end_time": "2025-02-19T11:20:53.803857Z",
     "start_time": "2025-02-19T11:20:53.801869Z"
    }
   },
   "cell_type": "code",
   "source": [
    "q = robot.getActualQ()\n",
    "print(\"robot configuration at home: \", q)"
   ],
   "id": "52a836e09a826d53",
   "outputs": [
    {
     "name": "stdout",
     "output_type": "stream",
     "text": [
      "robot configuration at home:  [4.816054570255801e-06, -1.5708204708495082, 1.2699757711231996e-05, -1.5708075962462367, -1.2699757711231996e-05, -4.593526021778871e-06]\n"
     ]
    }
   ],
   "execution_count": 3
  },
  {
   "metadata": {},
   "cell_type": "markdown",
   "source": [
    "move it in each joint separately, by 10 degrees, then move back home (all joints at once):"
   ],
   "id": "a5d9a39812277462"
  },
  {
   "metadata": {
    "ExecuteTime": {
     "end_time": "2025-02-19T11:18:06.607040Z",
     "start_time": "2025-02-19T11:17:50.528388Z"
    }
   },
   "cell_type": "code",
   "source": [
    "import time\n",
    "\n",
    "new_q = q.copy()\n",
    "for i in range(6):\n",
    "    new_q[i] += 20 * 3.14 / 180\n",
    "    robot.moveJ(new_q, speed=0.3, acceleration=0.3)\n",
    "    time.sleep(0.5)"
   ],
   "id": "633351337bb1ffc0",
   "outputs": [],
   "execution_count": 4
  },
  {
   "metadata": {
    "ExecuteTime": {
     "end_time": "2025-02-19T11:18:07.830670Z",
     "start_time": "2025-02-19T11:18:06.627016Z"
    }
   },
   "cell_type": "code",
   "source": [
    "robot.moveJ(q, speed=1, acceleration=1)"
   ],
   "id": "c6f50876c8a665ad",
   "outputs": [
    {
     "data": {
      "text/plain": [
       "True"
      ]
     },
     "execution_count": 5,
     "metadata": {},
     "output_type": "execute_result"
    }
   ],
   "execution_count": 5
  },
  {
   "metadata": {},
   "cell_type": "markdown",
   "source": [
    "Note the speed and acceleration, this is the speed of the joint in rad/s, and the acceleration in rad/s^2.\n",
    "It is recommended to do your tests with low speeds (~0.3) and when everything works safely you can increase."
   ],
   "id": "50c4d20fcf268afe"
  },
  {
   "metadata": {},
   "cell_type": "markdown",
   "source": [
    "## Move Path\n",
    "\n",
    "There is an option to move the robot through a path of configurations, this is useful for complex motions.\n",
    "It can simply be done by passing a list of configurations to the move_path function.\n"
   ],
   "id": "9449f601e638a005"
  },
  {
   "metadata": {
    "ExecuteTime": {
     "end_time": "2025-02-19T11:18:21.545193Z",
     "start_time": "2025-02-19T11:18:07.848083Z"
    }
   },
   "cell_type": "code",
   "source": [
    "import numpy as np\n",
    "\n",
    "# make sure robot at home first:\n",
    "robot.move_home()\n",
    "\n",
    "q_path = [[-np.pi/10, -np.pi/2 -np.pi/8, np.pi/4, -np.pi/2, 0, 0],\n",
    "          [np.pi/10, -np.pi/2  -np.pi/6, np.pi/4, -np.pi/2, np.pi/5, 0],\n",
    "          [np.pi/8, -np.pi/2 , np.pi/4, -np.pi/2, np.pi/5, np.pi/5],\n",
    "          q]\n",
    "\n",
    "robot.move_path(q_path, speed=0.3, acceleration=0.3, blend_radius=0.0)"
   ],
   "id": "76ffa9c49f466cdb",
   "outputs": [],
   "execution_count": 6
  },
  {
   "metadata": {},
   "cell_type": "markdown",
   "source": [
    "Note how the robot moves to each config in the path, then slows down to a stop before moving to the next one.\n",
    "If we want that movement to be continuous, which mean the robot will not slow to a complete stop before moving to the next configuration on the path, but will blend the movement between the configurations, we can set the blend_radius to a value greater than 0. This will make the robot move smoothly between the configurations.\n",
    "\n",
    "This should look smoother and be faster since the robot doesn't reach a complete stop between the configurations:"
   ],
   "id": "36ddf204c7119ac0"
  },
  {
   "metadata": {
    "ExecuteTime": {
     "end_time": "2025-02-19T11:18:32.444618Z",
     "start_time": "2025-02-19T11:18:21.566085Z"
    }
   },
   "cell_type": "code",
   "source": [
    "robot.move_path(q_path, speed=0.3, acceleration=0.3, blend_radius=0.1)"
   ],
   "id": "8a10ff341a87cf6c",
   "outputs": [],
   "execution_count": 7
  },
  {
   "metadata": {},
   "cell_type": "markdown",
   "source": [
    "## Move Asynchronously"
   ],
   "id": "f242773668d8341d"
  },
  {
   "metadata": {},
   "cell_type": "markdown",
   "source": [
    "Movement commands can be asynchronous, which means that the command will return immediately and the robot will start moving in the background while you can run code concurrently. This can be doen by passing the asynchronous=True argument to movement functions.\n",
    "If another command is sent to the robot while it is moving, the robot will stop the current movement and start the new one."
   ],
   "id": "cc797ffbe068b6b9"
  },
  {
   "metadata": {
    "ExecuteTime": {
     "end_time": "2025-02-19T11:18:43.164132Z",
     "start_time": "2025-02-19T11:18:32.466163Z"
    }
   },
   "cell_type": "code",
   "source": [
    "robot.move_path(q_path, speed=0.3, acceleration=0.3, blend_radius=0.05, asynchronous=True)\n",
    "time.sleep(0.5)\n",
    "print(\"this is being printed while the robot is moving\")\n",
    "print(\"joint velocities:\", robot.getActualQd())\n",
    "time.sleep(5)\n",
    "print(\"stopping robot in the middle of the path\")\n",
    "robot.stopJ()\n",
    "\n",
    "robot.move_home()"
   ],
   "id": "4e8c87003f383d06",
   "outputs": [
    {
     "name": "stdout",
     "output_type": "stream",
     "text": [
      "this is being printed while the robot is moving\n",
      "joint velocities: [-0.05922751873731613, -0.07367908209562302, 0.14341740310192108, 1.3514332248406553e-35, 7.551032467745245e-05, -0.0]\n",
      "stopping robot in the middle of the path\n"
     ]
    }
   ],
   "execution_count": 8
  },
  {
   "metadata": {},
   "cell_type": "markdown",
   "source": [
    "# Cartesian Space\n",
    "\n",
    "The robot can also be moved in the cartesian space, by passing the desired pose of the end effector.\n",
    "This is movement in the coordinate system where the base of the robot is at (0,0,0) and the z-axis is pointing upwards, y-axis is pointing towards the cable that comes out from the base, and x is according to the right hand law.\n",
    "\n",
    "The pose is defined as a 6D vector, where the first 3 elements are the position of the end effector, and the last 3 elements are the orientation of the end effector in the form of a rotation vector. Make sure not to confuse this 6D vector with the 6D vector of the robot configuration."
   ],
   "id": "dc98150f6718c6d4"
  },
  {
   "metadata": {
    "ExecuteTime": {
     "end_time": "2025-02-19T11:19:01.182730Z",
     "start_time": "2025-02-19T11:19:01.175805Z"
    }
   },
   "cell_type": "code",
   "source": [
    "robot.move_home()\n",
    "\n",
    "pose = robot.getActualTCPPose()\n",
    "print(\"robot pose at home: \", pose)"
   ],
   "id": "b1db769bf58afd78",
   "outputs": [
    {
     "name": "stdout",
     "output_type": "stream",
     "text": [
      "robot pose at home:  [-0.003016535407284132, -0.3705908603790207, 1.0808999662546177, -0.011354115187130856, -2.2160817134552393, 2.222845602445737]\n"
     ]
    }
   ],
   "execution_count": 12
  },
  {
   "metadata": {
    "ExecuteTime": {
     "end_time": "2025-02-19T11:22:23.979844Z",
     "start_time": "2025-02-19T11:22:23.954057Z"
    }
   },
   "cell_type": "code",
   "source": [
    "robot.moveJ([0, -np.pi/2, -np.pi/2, -np.pi/2, np.pi/2, 0], speed=0.3, acceleration=0.3)\n",
    "print(\"robot pose at new configuration: \", robot.getActualTCPPose())"
   ],
   "id": "e5dba2ad2629e93a",
   "outputs": [
    {
     "name": "stdout",
     "output_type": "stream",
     "text": [
      "robot pose at new configuration:  [0.49279591878891704, -0.13504862510088955, 0.3507515837631036, 2.2183856150733154, -2.219684665442245, 0.009637519642462485]\n"
     ]
    }
   ],
   "execution_count": 9
  },
  {
   "metadata": {},
   "cell_type": "markdown",
   "source": [
    "The moveL command can move the end effector of the robot to a target in the cartesian space described above:"
   ],
   "id": "2fe7b588087db2fb"
  },
  {
   "metadata": {
    "ExecuteTime": {
     "end_time": "2025-02-19T11:24:13.536786Z",
     "start_time": "2025-02-19T11:24:09.894168Z"
    }
   },
   "cell_type": "code",
   "source": [
    "pose = robot.getActualTCPPose()\n",
    "position = pose[:3]\n",
    "orientation = pose[3:]\n",
    "\n",
    "target_position = position.copy()\n",
    "target_position[1] -= 0.1\n",
    "target_pose = target_position + orientation\n",
    "robot.moveL(target_pose, speed=0.03, acceleration=0.1)"
   ],
   "id": "165e4435787ff98d",
   "outputs": [
    {
     "data": {
      "text/plain": [
       "True"
      ]
     },
     "execution_count": 10,
     "metadata": {},
     "output_type": "execute_result"
    }
   ],
   "execution_count": 10
  },
  {
   "metadata": {},
   "cell_type": "markdown",
   "source": [
    "Note that speed and acceleration here are in different units. Speed is in m/s and acceleration is in m/s^2 since we are moving in the cartesian space.\n",
    "Typically, the speed should be lower here.\n",
    "\n",
    "There is also a helper function for cartesian space movement relative to current end effector position, with fixed orientation:"
   ],
   "id": "a958d40304f2c53"
  },
  {
   "metadata": {
    "ExecuteTime": {
     "end_time": "2025-02-19T11:25:50.869766Z",
     "start_time": "2025-02-19T11:25:42.744430Z"
    }
   },
   "cell_type": "code",
   "source": [
    "# up and down:\n",
    "robot.moveL_relative([0, 0, 0.1], speed=0.1, acceleration=0.1)\n",
    "robot.moveL_relative([0, 0, -0.1], speed=0.1, acceleration=0.1)\n",
    "# along x:\n",
    "robot.moveL_relative([0.1, 0, 0], speed=0.1, acceleration=0.1)\n",
    "robot.moveL_relative([-0.1, 0, 0], speed=0.1, acceleration=0.1)"
   ],
   "id": "d7a5eafe6cbdff02",
   "outputs": [],
   "execution_count": 11
  },
  {
   "metadata": {},
   "cell_type": "markdown",
   "source": [
    "Note that cartesian space movement is not collision-aware, so make sure the robot is in a safe configuration before moving in the cartesian space.\n",
    "It is not recommended to move the robot in the cartesian space without a good reason and for too large movement, as small movements in cartesian space can be translated to complex and large movements in the joint space, this can lead to singularities, collisions, and other issues."
   ],
   "id": "5a5799acd1a9787d"
  },
  {
   "metadata": {},
   "cell_type": "markdown",
   "source": [
    "There is a lot more to learn. You are advised to browse:\n",
    "https://sdurobotics.gitlab.io/ur_rtde/api/api.html"
   ],
   "id": "bde2753d809f6dab"
  }
 ],
 "metadata": {
  "kernelspec": {
   "name": "python3",
   "language": "python",
   "display_name": "Python 3 (ipykernel)"
  }
 },
 "nbformat": 5,
 "nbformat_minor": 9
}
