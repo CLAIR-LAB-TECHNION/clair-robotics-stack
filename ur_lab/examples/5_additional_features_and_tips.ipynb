{
 "cells": [
  {
   "cell_type": "code",
   "execution_count": 1,
   "id": "initial_id",
   "metadata": {
    "collapsed": true,
    "ExecuteTime": {
     "end_time": "2025-03-06T09:18:48.014098400Z",
     "start_time": "2025-03-06T09:18:48.003050900Z"
    }
   },
   "outputs": [],
   "source": [
    "# free drive mode and collect configs/trajectory\n",
    "# logging\n",
    "# look at scripts for more\n",
    "# Use robots to mark points and put object in reproducible states\n",
    "# Move until contact is useful\n",
    "# Don't try to do everything. Abstract some things and make some things as simple as possible"
   ]
  },
  {
   "cell_type": "code",
   "execution_count": null,
   "outputs": [],
   "source": [],
   "metadata": {
    "collapsed": false
   }
  }
 ],
 "metadata": {
  "kernelspec": {
   "display_name": "Python 3",
   "language": "python",
   "name": "python3"
  },
  "language_info": {
   "codemirror_mode": {
    "name": "ipython",
    "version": 2
   },
   "file_extension": ".py",
   "mimetype": "text/x-python",
   "name": "python",
   "nbconvert_exporter": "python",
   "pygments_lexer": "ipython2",
   "version": "2.7.6"
  }
 },
 "nbformat": 4,
 "nbformat_minor": 5
}
