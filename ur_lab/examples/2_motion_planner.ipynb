{
 "cells": [
  {
   "cell_type": "markdown",
   "source": [
    "# Motion Planning\n",
    "\n",
    "This notebook introduces our lab's motion planning tools for robot manipulation. The system is built on the [Klampt (Klamp't) library](http://motion.cs.illinois.edu/software/klampt/latest/pyklampt_docs/), which provides powerful motion planning, kinematics, and simulation capabilities.\n",
    "\n",
    "If you want to make full use of this motion planner or extend it for your specific application, it's highly recommended to become familiar with Klampt. Refer to the official documentation:\n",
    "http://motion.cs.illinois.edu/software/klampt/latest/pyklampt_docs/"
   ],
   "metadata": {
    "collapsed": false
   }
  },
  {
   "cell_type": "markdown",
   "source": [
    "> ``NOTE: The motion planner visualization might not work in the notebook for you. If it doesn't work, you can run the code in a python script alongside reading the notebook.``\n"
   ],
   "metadata": {
    "collapsed": false
   }
  },
  {
   "cell_type": "code",
   "execution_count": 1,
   "outputs": [],
   "source": [
    "%load_ext autoreload\n",
    "%autoreload 2"
   ],
   "metadata": {
    "collapsed": false
   }
  },
  {
   "cell_type": "markdown",
   "source": [
    "First, let's initialize our motion planner:"
   ],
   "metadata": {
    "collapsed": false
   }
  },
  {
   "cell_type": "code",
   "execution_count": 2,
   "outputs": [],
   "source": [
    "import numpy as np\n",
    "import time"
   ],
   "metadata": {
    "collapsed": false
   }
  },
  {
   "metadata": {
    "ExecuteTime": {
     "end_time": "2025-03-24T15:47:54.587532200Z",
     "start_time": "2025-03-24T15:47:53.366931500Z"
    }
   },
   "cell_type": "code",
   "source": [
    "from motion_planning.motion_planner import MotionPlanner\n",
    "from motion_planning.abstract_motion_planner import AbstractMotionPlanner\n",
    "\n",
    "mp = MotionPlanner()"
   ],
   "id": "63ed52b518646529",
   "outputs": [],
   "execution_count": 1
  },
  {
   "cell_type": "markdown",
   "source": [
    "Now we'll visualize the motion planning environment. This gives us a 3D view of the robot(s) and workspace.\n",
    "You can use the mouse to rotate, shift + mouse to zoom in/out, and alt + mouse to pan the view."
   ],
   "metadata": {
    "collapsed": false
   }
  },
  {
   "cell_type": "code",
   "execution_count": 2,
   "outputs": [
    {
     "name": "stdout",
     "output_type": "stream",
     "text": [
      "***  klampt.vis: using Qt5 as the visualization backend  ***\n",
      "QtBackend: initializing app as Klamp't visualization\n",
      "vis: creating GL window\n",
      "######### QGLWidget setProgram ###############\n",
      "#########################################\n",
      "klampt.vis: Making window 0\n",
      "#########################################\n",
      "######### QGLWidget Initialize GL ###############\n"
     ]
    },
    {
     "ename": "NameError",
     "evalue": "name 'time' is not defined",
     "output_type": "error",
     "traceback": [
      "\u001B[1;31m---------------------------------------------------------------------------\u001B[0m",
      "\u001B[1;31mNameError\u001B[0m                                 Traceback (most recent call last)",
      "Cell \u001B[1;32mIn[2], line 2\u001B[0m\n\u001B[0;32m      1\u001B[0m mp\u001B[38;5;241m.\u001B[39mvisualize()\n\u001B[1;32m----> 2\u001B[0m \u001B[43mtime\u001B[49m\u001B[38;5;241m.\u001B[39msleep(\u001B[38;5;241m10\u001B[39m)  \u001B[38;5;66;03m# so other cells won't run if you press run all (which you shouldn't)\u001B[39;00m\n",
      "\u001B[1;31mNameError\u001B[0m: name 'time' is not defined"
     ]
    }
   ],
   "source": [
    "mp.visualize()\n",
    "time.sleep(10)  # so other cells won't run if you press run all (which you shouldn't)"
   ],
   "metadata": {
    "collapsed": false,
    "ExecuteTime": {
     "end_time": "2025-03-24T15:48:11.479745100Z",
     "start_time": "2025-03-24T15:48:08.661572Z"
    }
   }
  },
  {
   "cell_type": "markdown",
   "source": [
    "## Working with Robot Names\n",
    "\n",
    "In our motion planning environment, we need to specify which robot we're working with for every operation. The environment can contain multiple robots, and each must be referenced by name.\n",
    "\n",
    "By default, our environment has two robots named `\"ur5e_1\"` and `\"ur5e_2\"`. You can see all available robot names using:"
   ],
   "metadata": {
    "collapsed": false
   }
  },
  {
   "cell_type": "code",
   "execution_count": 5,
   "outputs": [
    {
     "data": {
      "text/plain": "dict_keys(['ur5e_1', 'ur5e_2'])"
     },
     "execution_count": 5,
     "metadata": {},
     "output_type": "execute_result"
    }
   ],
   "source": [
    "mp.robot_name_mapping.keys()"
   ],
   "metadata": {
    "collapsed": false
   }
  },
  {
   "cell_type": "markdown",
   "source": [
    "## Robot Configuration\n",
    "\n",
    "When working with multiple robots, it's important to keep the motion planner updated with the current configuration of each robot. The `update_robot_config` method updates the robot's configuration in the motion planner, so it will consider the position of robot 1 for example when planning paths for robot 2.\n",
    "\n",
    "In practice, you would typically retrieve the current configuration from the real robot using the robot interface (e.g., `robot.getActualQ()` as shown in the robot control notebook), and then update the motion planner with this configuration. In the next notebook, we'll introduce a more advanced interface that handles this synchronization for you automatically.\n",
    "\n",
    "We can control the robots in our environment by updating their joint configurations. Let's set specific configurations for our robots. You will see the change in the visualization window that should have opened when you ran the `visualize` method."
   ],
   "metadata": {
    "collapsed": false
   }
  },
  {
   "cell_type": "code",
   "execution_count": 6,
   "outputs": [],
   "source": [
    "mp.update_robot_config(\"ur5e_1\", [np.pi/2, 0, -np.pi/2, 0, 0, 0])"
   ],
   "metadata": {
    "collapsed": false
   }
  },
  {
   "cell_type": "code",
   "execution_count": 7,
   "outputs": [],
   "source": [
    "mp.update_robot_config(\"ur5e_2\", [0, -np.pi/4, 0, 0, 0, 0])"
   ],
   "metadata": {
    "collapsed": false
   }
  },
  {
   "cell_type": "markdown",
   "source": [
    "We can also visualize different configurations of the same robot with different colors. This is useful for debugging, seeing start and goal states for planning and what ever you need in your application. Note that if you don't provide a name for a config, it will be removed when vis_config is called again. You can provide name to a config as a function argument. rgba means red, green, blue, alpha (transparency)."
   ],
   "metadata": {
    "collapsed": false
   }
  },
  {
   "cell_type": "code",
   "execution_count": 8,
   "outputs": [],
   "source": [
    "mp.vis_config(\"ur5e_2\", [-np.pi/2, -np.pi/2, 0, 0, 0, 0], rgba=[1, 0, 0, 0.5])\n",
    "mp.vis_config(\"ur5e_2\", [0, 0, 0, 0, 0, 0], rgba=[0, 1, 1, 0.5], vis_name=\"other_config\")"
   ],
   "metadata": {
    "collapsed": false
   }
  },
  {
   "cell_type": "markdown",
   "source": [
    "## Collision Checking\n",
    "\n",
    "A fundamental capability in motion planning is checking whether a configuration is feasible (collision-free). Let's test a configuration that causes collision."
   ],
   "metadata": {
    "collapsed": false
   }
  },
  {
   "cell_type": "code",
   "execution_count": 9,
   "outputs": [
    {
     "name": "stdout",
     "output_type": "stream",
     "text": [
      "False\n"
     ]
    }
   ],
   "source": [
    "collision_config = [0, 0, 0, 0, 0, 0]\n",
    "mp.vis_config(\"ur5e_1\", collision_config)\n",
    "print(mp.is_config_feasible(\"ur5e_1\", collision_config))"
   ],
   "metadata": {
    "collapsed": false
   }
  },
  {
   "cell_type": "markdown",
   "source": [
    "## Path Planning\n",
    "\n",
    "Now let's try planning a path between two configurations. We'll first visualize the start and goal configurations."
   ],
   "metadata": {
    "collapsed": false
   }
  },
  {
   "cell_type": "code",
   "execution_count": 10,
   "outputs": [],
   "source": [
    "q1 = [0.03923, -1.76654, -2.27161, -2.19254, 0.40798, 3.07572]\n",
    "q2 = [-0.06798, -1.84265, -2.65451, 1.33179, 1.61574, 1.64959]\n",
    "\n",
    "mp.vis_config(\"ur5e_1\", q1, rgba=[1, 0, 0, 0.5], vis_name=\"start\")\n",
    "mp.vis_config(\"ur5e_1\", q2, rgba=[0, 1, 0, 0.5], vis_name=\"goal\")"
   ],
   "metadata": {
    "collapsed": false
   }
  },
  {
   "cell_type": "markdown",
   "source": [
    "The plan_from_start_to_goal_config method computes a collision-free path between the configurations."
   ],
   "metadata": {
    "collapsed": false
   }
  },
  {
   "cell_type": "code",
   "execution_count": 11,
   "outputs": [
    {
     "name": "stdout",
     "output_type": "stream",
     "text": [
      "planning motion...\n",
      "planning took  0.6755077838897705  seconds.\n"
     ]
    }
   ],
   "source": [
    "path = mp.plan_from_start_to_goal_config(\"ur5e_1\", q1, q2)"
   ],
   "metadata": {
    "collapsed": false
   }
  },
  {
   "cell_type": "markdown",
   "source": [
    "Let's examine the computed path. Each row represents a configuration along the path."
   ],
   "metadata": {
    "collapsed": false
   }
  },
  {
   "cell_type": "code",
   "execution_count": 12,
   "outputs": [
    {
     "name": "stdout",
     "output_type": "stream",
     "text": [
      "[[0.03923, -1.76654, -2.27161, -2.19254, 0.40798, 3.07572], [-3.4464582366219036, -1.229174469838593, 0.26320689053989355, 2.267204223316255, -1.6057085566000333, -0.2635169597917042], [-0.06798, -1.84265, -2.65451, 1.33179, 1.61574, 1.64959]]\n"
     ]
    }
   ],
   "source": [
    "print(path)"
   ],
   "metadata": {
    "collapsed": false
   }
  },
  {
   "cell_type": "code",
   "execution_count": 13,
   "outputs": [],
   "source": [
    "for p in path:\n",
    "    mp.update_robot_config(\"ur5e_1\", p)\n",
    "    time.sleep(1)"
   ],
   "metadata": {
    "collapsed": false
   }
  },
  {
   "cell_type": "markdown",
   "source": [
    "It may be useful for debugging to visualize the path. The motion planner provides a method to animate the path (you can see it's arguments for more options).\n",
    "This way you can even debug things without moving the robots."
   ],
   "metadata": {
    "collapsed": false
   }
  },
  {
   "cell_type": "code",
   "execution_count": 14,
   "outputs": [],
   "source": [
    "mp.animate_path(\"ur5e_1\", path)\n",
    "mp.animate_path(\"ur5e_1\", path[::-1])"
   ],
   "metadata": {
    "collapsed": false
   }
  },
  {
   "cell_type": "markdown",
   "source": [
    "Note that we can't plan to or from configurations in collision. This will raise an exception!"
   ],
   "metadata": {
    "collapsed": false
   }
  },
  {
   "cell_type": "code",
   "execution_count": 15,
   "outputs": [
    {
     "name": "stderr",
     "output_type": "stream",
     "text": [
      "C:\\Study\\master\\clair-robotics-stack\\lib\\site-packages\\klampt\\plan\\robotplanning.py:252: UserWarning: Goal configuration fails ['obj collision 2 table2', 'obj collision 5 keep_out_from_ur3_zone']\n",
      "  warnings.warn(\"Goal configuration fails {}\".format(gfailures))\n"
     ]
    },
    {
     "ename": "AttributeError",
     "evalue": "'NoneType' object has no attribute 'space'",
     "output_type": "error",
     "traceback": [
      "\u001B[1;31m---------------------------------------------------------------------------\u001B[0m",
      "\u001B[1;31mAttributeError\u001B[0m                            Traceback (most recent call last)",
      "Cell \u001B[1;32mIn[15], line 1\u001B[0m\n\u001B[1;32m----> 1\u001B[0m path \u001B[38;5;241m=\u001B[39m \u001B[43mmp\u001B[49m\u001B[38;5;241;43m.\u001B[39;49m\u001B[43mplan_from_start_to_goal_config\u001B[49m\u001B[43m(\u001B[49m\u001B[38;5;124;43m\"\u001B[39;49m\u001B[38;5;124;43mur5e_1\u001B[39;49m\u001B[38;5;124;43m\"\u001B[39;49m\u001B[43m,\u001B[49m\u001B[43m \u001B[49m\u001B[43mq1\u001B[49m\u001B[43m,\u001B[49m\u001B[43m \u001B[49m\u001B[43mcollision_config\u001B[49m\u001B[43m)\u001B[49m\n",
      "File \u001B[1;32mC:\\Study\\clair-robotics-stack\\motion_planning\\abstract_motion_planner.py:184\u001B[0m, in \u001B[0;36mAbstractMotionPlanner.plan_from_start_to_goal_config\u001B[1;34m(self, robot_name, start_config, goal_config, max_time, max_length_to_distance_ratio)\u001B[0m\n\u001B[0;32m    181\u001B[0m goal_config_klampt \u001B[38;5;241m=\u001B[39m \u001B[38;5;28mself\u001B[39m\u001B[38;5;241m.\u001B[39mconfig6d_to_klampt(goal_config)\n\u001B[0;32m    183\u001B[0m robot \u001B[38;5;241m=\u001B[39m \u001B[38;5;28mself\u001B[39m\u001B[38;5;241m.\u001B[39mrobot_name_mapping[robot_name]\n\u001B[1;32m--> 184\u001B[0m path \u001B[38;5;241m=\u001B[39m \u001B[38;5;28;43mself\u001B[39;49m\u001B[38;5;241;43m.\u001B[39;49m\u001B[43m_plan_from_start_to_goal_config_klampt\u001B[49m\u001B[43m(\u001B[49m\u001B[43mrobot\u001B[49m\u001B[43m,\u001B[49m\u001B[43m \u001B[49m\u001B[43mstart_config_klampt\u001B[49m\u001B[43m,\u001B[49m\u001B[43m \u001B[49m\u001B[43mgoal_config_klampt\u001B[49m\u001B[43m,\u001B[49m\n\u001B[0;32m    185\u001B[0m \u001B[43m                                                   \u001B[49m\u001B[43mmax_time\u001B[49m\u001B[43m,\u001B[49m\u001B[43m \u001B[49m\u001B[43mmax_length_to_distance_ratio\u001B[49m\u001B[43m)\u001B[49m\n\u001B[0;32m    187\u001B[0m \u001B[38;5;28;01mreturn\u001B[39;00m \u001B[38;5;28mself\u001B[39m\u001B[38;5;241m.\u001B[39mpath_klampt_to_config6d(path)\n",
      "File \u001B[1;32mC:\\Study\\clair-robotics-stack\\motion_planning\\abstract_motion_planner.py:200\u001B[0m, in \u001B[0;36mAbstractMotionPlanner._plan_from_start_to_goal_config_klampt\u001B[1;34m(self, robot, start_config, goal_config, max_time, max_length_to_distance_ratio)\u001B[0m\n\u001B[0;32m    194\u001B[0m robot\u001B[38;5;241m.\u001B[39msetConfig(start_config)\n\u001B[0;32m    196\u001B[0m planner \u001B[38;5;241m=\u001B[39m robotplanning\u001B[38;5;241m.\u001B[39mplan_to_config(\u001B[38;5;28mself\u001B[39m\u001B[38;5;241m.\u001B[39mworld, robot, goal_config,\n\u001B[0;32m    197\u001B[0m                                        \u001B[38;5;66;03m# ignore_collisions=[('keep_out_from_ur3_zone', 'table2')],\u001B[39;00m\n\u001B[0;32m    198\u001B[0m                                        \u001B[38;5;66;03m# extraConstraints=\u001B[39;00m\n\u001B[0;32m    199\u001B[0m                                        \u001B[38;5;241m*\u001B[39m\u001B[38;5;241m*\u001B[39m\u001B[38;5;28mself\u001B[39m\u001B[38;5;241m.\u001B[39msettings)\n\u001B[1;32m--> 200\u001B[0m \u001B[43mplanner\u001B[49m\u001B[38;5;241;43m.\u001B[39;49m\u001B[43mspace\u001B[49m\u001B[38;5;241m.\u001B[39meps \u001B[38;5;241m=\u001B[39m \u001B[38;5;28mself\u001B[39m\u001B[38;5;241m.\u001B[39meps\n\u001B[0;32m    202\u001B[0m \u001B[38;5;66;03m# before planning, check if a direct path is possible, then no need to plan\u001B[39;00m\n\u001B[0;32m    203\u001B[0m \u001B[38;5;28;01mif\u001B[39;00m \u001B[38;5;28mself\u001B[39m\u001B[38;5;241m.\u001B[39m_is_direct_path_possible(planner, start_config, goal_config):\n",
      "\u001B[1;31mAttributeError\u001B[0m: 'NoneType' object has no attribute 'space'"
     ]
    }
   ],
   "source": [
    "path = mp.plan_from_start_to_goal_config(\"ur5e_1\", q1, collision_config)"
   ],
   "metadata": {
    "collapsed": false
   }
  },
  {
   "cell_type": "markdown",
   "source": [
    "If you are not sure that both start and goal configurations are feasible, you can check them before planning, put the planning in a try-except block, or reimplement those methods to handle this case.\n",
    "\n",
    " > ``Note: The motion planner uses RRT as default with some default parameters. You can can look at init method and read KLAMPT libray documentation if you want ot change it``\n",
    "\n",
    " > ``NOTE: To save time, when the planning method is called, it first checks if there is a direct collision-free path (in configuration space) avialable from start to goal. If there is, it returns that path of lenght 2. Otherwise, it plans a path. In an envrionment without many obstacles, there are often such direct paths.``"
   ],
   "metadata": {
    "collapsed": false
   }
  },
  {
   "cell_type": "markdown",
   "source": [
    "## Robot Kinematics\n",
    "\n",
    "The motion planner also provides forward and inverse kinematics functionality.\n",
    "Recall that the URs have 6 joints, so the configuration is a 6D vector. Forward kinematics computes the end-effector pose given a configuration.\n",
    "\n",
    "For pose/transform we use the KLAMPT library representation, which is a tuple of (rotation_matrix, translation_vector).\n",
    "The rotation matrix is a 3x3 matrix flattened to a 9D vector, and the translation vector is a 3D vector.\n",
    "\n",
    " > ``IMPORTANT NOTE: The coordinates of transforms/points in the motion planner are in the world coordinate system/frame and not necessarily the robot's base frame.\n",
    " >  for example: the robot is at (1,1,0), aligned with the world coordinate system rotation. You compute forward kinematics and get a translation of (1,2,0) for the end effector, that's world coordinates. It would be (0,1,0) in the robot's base frame. The Robot interfaces on the other hand, always use the robot's base frame as there is no notion of world coordinates or other robots in the robot's interface.``\n",
    "\n",
    "Here's an example of computing the forward kinematics for the first robot:\n"
   ],
   "metadata": {
    "collapsed": false
   }
  },
  {
   "cell_type": "code",
   "execution_count": 16,
   "outputs": [
    {
     "name": "stdout",
     "output_type": "stream",
     "text": [
      "Rotation matrix:\n",
      "[[-1.00000000e+00  0.00000000e+00  1.79489988e-09]\n",
      " [-1.79489988e-09  0.00000000e+00 -1.00000000e+00]\n",
      " [ 0.00000000e+00 -1.00000000e+00  0.00000000e+00]]\n",
      "Translation vector:\n",
      "[1.7917044553320089e-10, -0.383172, 1.079229]\n"
     ]
    }
   ],
   "source": [
    "R_flat, t = mp.get_forward_kinematics(\"ur5e_1\", [0, -np.pi/2, 0, -np.pi/2, 0, 0])\n",
    "R = np.array(R_flat).reshape(3, 3)\n",
    "\n",
    "print(\"Rotation matrix:\")\n",
    "print(R)\n",
    "print(\"Translation vector:\")\n",
    "print(t)"
   ],
   "metadata": {
    "collapsed": false,
    "ExecuteTime": {
     "end_time": "2025-03-24T14:33:49.750123300Z",
     "start_time": "2025-03-24T14:33:49.625748400Z"
    }
   }
  },
  {
   "cell_type": "markdown",
   "source": [
    "We can also compute the inverse kinematics to find a configuration that achieves a desired end-effector pose. Here we choose a goal position and an orientation where the end effector is pointing downwards."
   ],
   "metadata": {
    "collapsed": false
   }
  },
  {
   "cell_type": "code",
   "execution_count": 17,
   "outputs": [
    {
     "name": "stdout",
     "output_type": "stream",
     "text": [
      "[1.3003001799472707, -1.5112575636413743, 1.0822593860483003, -1.1417993995448024, -1.5707961172280605, 2.871096486077435]\n"
     ]
    }
   ],
   "source": [
    "goal_position = np.array([0, -0.5, 0.5])\n",
    "goal_orientation_matrix = np.array([[1, 0, 0], [0, -1, 0], [0, 0, -1]])\n",
    "goal_transform = (goal_orientation_matrix.flatten(), goal_position)\n",
    "config = mp.ik_solve(\"ur5e_1\", goal_transform)\n",
    "print(config)\n",
    "if config is not None:\n",
    "    mp.update_robot_config(\"ur5e_1\", config)"
   ],
   "metadata": {
    "collapsed": false,
    "ExecuteTime": {
     "end_time": "2025-03-24T14:33:50.612219Z",
     "start_time": "2025-03-24T14:33:50.443806200Z"
    }
   }
  },
  {
   "cell_type": "markdown",
   "source": [
    "## Geometry and Transforms\n",
    "The GeometryAndTransforms class provides helper methods for working with points, transforms, and geometry in the motion planning environment.\n",
    "It is initialized with a MotionPlanner instance.\n",
    "It can be used for example to transform points between robot and world coordinates. UR5e_2 is not at the origin. If we transforms it's origin to the world coordinates, we get the robot's base position."
   ],
   "metadata": {
    "collapsed": false
   }
  },
  {
   "cell_type": "code",
   "execution_count": 18,
   "outputs": [
    {
     "name": "stdout",
     "output_type": "stream",
     "text": [
      "[-0.76, -1.33, 0.0]\n"
     ]
    }
   ],
   "source": [
    "from motion_planning.geometry_and_transforms import GeometryAndTransforms\n",
    "gt = GeometryAndTransforms(mp)\n",
    "\n",
    "ur5e_2_position = gt.point_robot_to_world(\"ur5e_2\", [0,0,0])\n",
    "print(ur5e_2_position)"
   ],
   "metadata": {
    "collapsed": false,
    "ExecuteTime": {
     "end_time": "2025-03-24T14:33:59.902474200Z",
     "start_time": "2025-03-24T14:33:51.459164Z"
    }
   }
  },
  {
   "cell_type": "markdown",
   "source": [
    "Let's use the motion planner visualization to show the point in the world. We can also use it to see that UR5e_1 is at the origin."
   ],
   "metadata": {
    "collapsed": false
   }
  },
  {
   "cell_type": "code",
   "execution_count": 19,
   "outputs": [],
   "source": [
    "above_ur5e_2_position = ur5e_2_position.copy()\n",
    "above_ur5e_2_position[2] += 1\n",
    "mp.show_point_vis(above_ur5e_2_position, rgba=[0, 1, 0, 0.5])\n",
    "mp.show_point_vis([0,0,1], name=\"above origin\", rgba=[1, 0, 0, 0.5])"
   ],
   "metadata": {
    "collapsed": false,
    "ExecuteTime": {
     "end_time": "2025-03-24T14:34:00.016071300Z",
     "start_time": "2025-03-24T14:33:59.902474200Z"
    }
   }
  },
  {
   "cell_type": "markdown",
   "source": [
    "## Extending Motion Planner and Defining Custom Geometry\n",
    "Have you been wondering where the geometry (positions and orientation of robots, tables, obstacles...) is defined to be as you saw it in the default motion planner we have been working with do far?\n",
    "Most of the code for the motion planner is in the AbstractMotionPlanner file (ur_lav/motion_planning/abstract_motion_planner.py). The logic is implemented there. The Motion Planner we use subclasses it and provides the path to the klampt world file that defines the geometry and robots."
   ],
   "metadata": {
    "collapsed": false
   }
  },
  {
   "cell_type": "code",
   "execution_count": 20,
   "outputs": [],
   "source": [
    "%pycat ../../motion_planning/motion_planner.py"
   ],
   "metadata": {
    "collapsed": false,
    "ExecuteTime": {
     "end_time": "2025-03-24T14:34:00.323377Z",
     "start_time": "2025-03-24T14:34:00.018071400Z"
    }
   }
  },
  {
   "cell_type": "markdown",
   "source": [
    "As we will see, to define your own motion planner, all you have to do is subclass AbstractMotionPlanner and implement the methods that are abstract in the AbstractMotionPlanner. which are: _get_klampt_world_path and _add_attachments. For that you will have to write the klampt world file that defines the geometry and robots. It is simply an xml file. Here is an example of such a file:"
   ],
   "metadata": {
    "collapsed": false
   }
  },
  {
   "cell_type": "code",
   "execution_count": 21,
   "outputs": [],
   "source": [
    "%more ../../motion_planning/klampt_world.xml"
   ],
   "metadata": {
    "collapsed": false,
    "ExecuteTime": {
     "end_time": "2025-03-24T14:34:00.463113200Z",
     "start_time": "2025-03-24T14:34:00.324387900Z"
    }
   }
  },
  {
   "cell_type": "markdown",
   "source": [
    "The syntax and options for the xml file are documented in the KLAMPT library documentation:\n",
    "http://motion.cs.illinois.edu/software/klampt/latest/pyklampt_docs/\n",
    "\n",
    "Let's try and implement our own motion planner that uses a custom klampt world file.\n",
    "\n",
    "### Cleaning up\n",
    "We are going to create another motion planner. Since the visualization module of klampt is global, we need to do some clean up. This is just for this notebook. Generally, refrain from using more than one motion planner in the same run.\n"
   ],
   "metadata": {
    "collapsed": false
   }
  },
  {
   "cell_type": "code",
   "execution_count": 22,
   "outputs": [],
   "source": [
    "def destroy_mp_and_reset_vis(mp):\n",
    "    '''\n",
    "    Only for use here where we create multiple motion planners...\n",
    "    '''\n",
    "\n",
    "    AbstractMotionPlanner.vis_initialized = False\n",
    "    from klampt import vis\n",
    "    vis.clear()\n",
    "    del mp"
   ],
   "metadata": {
    "collapsed": false,
    "ExecuteTime": {
     "end_time": "2025-03-24T14:34:00.668320100Z",
     "start_time": "2025-03-24T14:34:00.463113200Z"
    }
   }
  },
  {
   "cell_type": "code",
   "execution_count": 23,
   "outputs": [],
   "source": [
    "destroy_mp_and_reset_vis(mp)"
   ],
   "metadata": {
    "collapsed": false,
    "ExecuteTime": {
     "end_time": "2025-03-24T14:34:00.878008Z",
     "start_time": "2025-03-24T14:34:00.664761Z"
    }
   }
  },
  {
   "cell_type": "markdown",
   "source": [
    "## Creating a World File\n",
    "Let's create a basic world file, with 3 robots this time. To make things interesting, one of them will be hang from the ceiling and the other two will be on a table.\n"
   ],
   "metadata": {
    "collapsed": false
   }
  },
  {
   "cell_type": "code",
   "execution_count": 24,
   "outputs": [],
   "source": [
    "example_world_file = \"\"\"\n",
    "<?xml version=\"1.0\" encoding=\"UTF-8\"?>\n",
    "<world>\n",
    "\n",
    "  <robot name=\"robot_ceiling\" file=\"../../motion_planning/ur5e_rob/ur5e_hires.rob\" position=\"0 0 1.99\" rotateRPY=\"0 3.14 0\"/>\n",
    "  <robot name=\"robot_table1\" file=\"../../motion_planning/ur5e_rob/ur5e_hires.rob\" position=\"0.7 0.7 0.01\" rotateRPY=\"0 0 0\"/>\n",
    "  <robot name=\"robot_table2\" file=\"../../motion_planning/ur5e_rob/ur5e_hires.rob\" position=\"-0.7 -0.7 0.01\" rotateRPY=\"0 0 0\"/>\n",
    "\n",
    "\n",
    "  <rigidObject name=\"ceiling\"  position=\"0 0 2.0\">\n",
    "    <geometry mesh=\"../../motion_planning/objects/cube.off\" scale=\"2 2 0.01\" translate=\"0 0 0\" />\n",
    "  </rigidObject>\n",
    "\n",
    "   <rigidObject name=\"table\"  position=\"0 0 0\">\n",
    "    <geometry mesh=\"../../motion_planning/objects/cube.off\" scale=\"2 2 0.01\" translate=\"0 0 0\" />\n",
    "  </rigidObject>\n",
    "\n",
    "</world>\n",
    "\n",
    "\"\"\"\n",
    "\n",
    "# save to file:\n",
    "with open(\"example_klampt_world.xml\", \"w\") as f:\n",
    "    f.write(example_world_file)"
   ],
   "metadata": {
    "collapsed": false,
    "ExecuteTime": {
     "end_time": "2025-03-24T14:34:01.011093400Z",
     "start_time": "2025-03-24T14:34:00.878544300Z"
    }
   }
  },
  {
   "cell_type": "markdown",
   "source": [
    "```\n",
    "  <rigidObject name=\"ceiling\"  position=\"0 0 2.0\">\n",
    "    <geometry mesh=\"../../motion_planning/objects/cube.off\" scale=\"2 2 0.01\" translate=\"0 0 0\" />\n",
    "  </rigidObject>\n",
    "```\n",
    "creates a rigid object for the ceiling. A geometry is created from the ../../motion_planning/objects/cube.off mesh file, which is 1x1x1 cube. It is sclaed to 2x2x0.01 to be a thin plane and in the rigid object decleration it is translated by two meters up: position=\"0 0 2.0\". A table plane is placed similarely.\n",
    "\n",
    "```\n",
    "  <robot name=\"robot_ceiling\" file=\"../../motion_planning/ur5e_rob/ur5e_hires.rob\" position=\"0 0 1.99\" rotateRPY=\"0 3.14 0\"/>\n",
    "```\n",
    "Uses a robot model that is placed in ../../motion_planning/ur5e_rob/ur5e_hires.rob. It puts it's bace in position 0 0 1.99 (ceiling) and rotates it 180 degrees (3.14 radians) around y axis to make it upside down.\n",
    "Two other robots are placed on the table similarly.\n",
    "\n",
    "## Creating a Motion Planner\n",
    "Now that we have a file that defines the geometry, we can subclass the motion planner and create a new one that uses this file.\n",
    "We are not adding attachments and make the trivial and minimal extension, we just return the path to the file we created above as world file, and we have a working motion planner, since all the logic for motion planning and the interfaces we saw above is implemented in the AbstractMotionPlanner class.\n"
   ],
   "metadata": {
    "collapsed": false
   }
  },
  {
   "cell_type": "code",
   "execution_count": 25,
   "outputs": [],
   "source": [
    "from motion_planning.abstract_motion_planner import AbstractMotionPlanner\n",
    "\n",
    "class MyMotionPlanner(AbstractMotionPlanner):\n",
    "\n",
    "    def _get_klampt_world_path(self):\n",
    "        return \"example_klampt_world.xml\"\n",
    "\n",
    "    def _add_attachments(self, robot, attachments):\n",
    "        pass"
   ],
   "metadata": {
    "collapsed": false,
    "ExecuteTime": {
     "end_time": "2025-03-24T14:34:02.317675600Z",
     "start_time": "2025-03-24T14:34:02.149834500Z"
    }
   }
  },
  {
   "cell_type": "code",
   "execution_count": 26,
   "outputs": [],
   "source": [
    "my_mp = MyMotionPlanner()\n",
    "my_mp.visualize()"
   ],
   "metadata": {
    "collapsed": false,
    "ExecuteTime": {
     "end_time": "2025-03-24T14:34:02.804458Z",
     "start_time": "2025-03-24T14:34:02.436406700Z"
    }
   }
  },
  {
   "cell_type": "markdown",
   "source": [
    " For example, we can update the configuration of the robot that is hanging from the ceiling. Note that we use the name we gave it in the world file."
   ],
   "metadata": {
    "collapsed": false
   }
  },
  {
   "cell_type": "code",
   "execution_count": 27,
   "outputs": [],
   "source": [
    "my_mp.update_robot_config(\"robot_ceiling\", [0, 0, 0, 0, 0, 0])"
   ],
   "metadata": {
    "collapsed": false,
    "ExecuteTime": {
     "end_time": "2025-03-24T14:34:03.375122400Z",
     "start_time": "2025-03-24T14:34:03.203748100Z"
    }
   }
  },
  {
   "cell_type": "markdown",
   "source": [
    "We can see that we have the three robots we defined in the environment:"
   ],
   "metadata": {
    "collapsed": false
   }
  },
  {
   "cell_type": "code",
   "execution_count": 28,
   "outputs": [
    {
     "data": {
      "text/plain": "dict_keys(['robot_ceiling', 'robot_table1', 'robot_table2'])"
     },
     "execution_count": 28,
     "metadata": {},
     "output_type": "execute_result"
    }
   ],
   "source": [
    "my_mp.robot_name_mapping.keys()"
   ],
   "metadata": {
    "collapsed": false,
    "ExecuteTime": {
     "end_time": "2025-03-24T14:34:04.091740900Z",
     "start_time": "2025-03-24T14:34:03.922607700Z"
    }
   }
  }
 ],
 "metadata": {
  "kernelspec": {
   "name": "python3",
   "language": "python",
   "display_name": "Python 3 (ipykernel)"
  }
 },
 "nbformat": 5,
 "nbformat_minor": 9
}
