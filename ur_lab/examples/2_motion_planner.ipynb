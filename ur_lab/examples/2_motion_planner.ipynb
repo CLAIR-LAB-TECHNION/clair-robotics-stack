{
 "cells": [
  {
   "metadata": {},
   "cell_type": "markdown",
   "source": [
    " # ==Important Note==\n",
    " The motion planner visualization might not work in the notebook for you. If it doesn't work, you can run the code in a python script alongside reading the notebook."
   ],
   "id": "df00ae6d78cd347f"
  },
  {
   "cell_type": "code",
   "execution_count": 1,
   "outputs": [],
   "source": [
    "%load_ext autoreload\n",
    "%autoreload 2"
   ],
   "metadata": {
    "collapsed": false
   }
  },
  {
   "cell_type": "code",
   "execution_count": 2,
   "outputs": [],
   "source": [
    "import numpy as np\n",
    "import time"
   ],
   "metadata": {
    "collapsed": false
   }
  },
  {
   "metadata": {},
   "cell_type": "code",
   "source": [
    "from ur_lab.motion_planning.motion_planner import MotionPlanner\n",
    "from ur_lab.motion_planning.abstract_motion_planner import AbstractMotionPlanner\n",
    "\n",
    "mp = MotionPlanner()"
   ],
   "id": "63ed52b518646529",
   "outputs": [],
   "execution_count": 3
  },
  {
   "cell_type": "code",
   "execution_count": 4,
   "outputs": [
    {
     "name": "stdout",
     "output_type": "stream",
     "text": [
      "***  klampt.vis: using Qt5 as the visualization backend  ***\n",
      "QtBackend: initializing app as Klamp't visualization\n",
      "vis: creating GL window\n",
      "######### QGLWidget setProgram ###############\n",
      "#########################################\n",
      "klampt.vis: Making window 0\n",
      "#########################################\n",
      "######### QGLWidget Initialize GL ###############\n"
     ]
    }
   ],
   "source": [
    "mp.visualize()\n",
    "time.sleep(10)  # so other cells won't run if you press run all (which you shouldn't)"
   ],
   "metadata": {
    "collapsed": false
   }
  },
  {
   "cell_type": "markdown",
   "source": [
    "Robot names"
   ],
   "metadata": {
    "collapsed": false
   }
  },
  {
   "cell_type": "code",
   "execution_count": 5,
   "outputs": [],
   "source": [
    "mp.update_robot_config(\"ur5e_1\", [np.pi/2, 0, -np.pi/2, 0, 0, 0])"
   ],
   "metadata": {
    "collapsed": false
   }
  },
  {
   "cell_type": "code",
   "execution_count": 6,
   "outputs": [],
   "source": [
    "mp.update_robot_config(\"ur5e_2\", [0, -np.pi/4, 0, 0, 0, 0])"
   ],
   "metadata": {
    "collapsed": false
   }
  },
  {
   "cell_type": "code",
   "execution_count": 7,
   "outputs": [],
   "source": [
    "mp.vis_config(\"ur5e_2\", [-np.pi/2, -np.pi/2, 0, 0, 0, 0], rgba=[1, 0, 0, 0.5])\n",
    "mp.vis_config(\"ur5e_2\", [0, 0, 0, 0, 0, 0], rgba=[0, 1, 1, 0.5], vis_name=\"other_config\")"
   ],
   "metadata": {
    "collapsed": false
   }
  },
  {
   "cell_type": "markdown",
   "source": [
    "## feasibility check"
   ],
   "metadata": {
    "collapsed": false
   }
  },
  {
   "cell_type": "code",
   "execution_count": 8,
   "outputs": [
    {
     "name": "stdout",
     "output_type": "stream",
     "text": [
      "False\n"
     ]
    }
   ],
   "source": [
    "collision_config = [0, 0, 0, 0, 0, 0]\n",
    "mp.vis_config(\"ur5e_1\", collision_config)\n",
    "print(mp.is_config_feasible(\"ur5e_1\", collision_config))"
   ],
   "metadata": {
    "collapsed": false
   }
  },
  {
   "cell_type": "markdown",
   "source": [
    "## planning motion"
   ],
   "metadata": {
    "collapsed": false
   }
  },
  {
   "cell_type": "code",
   "execution_count": 9,
   "outputs": [],
   "source": [
    "q1 = [0.03923, -1.76654, -2.27161, -2.19254, 0.40798, 3.07572]\n",
    "q2 = [-0.06798, -1.84265, -2.65451, 1.33179, 1.61574, 1.64959]\n",
    "\n",
    "mp.vis_config(\"ur5e_1\", q1, rgba=[1, 0, 0, 0.5], vis_name=\"start\")\n",
    "mp.vis_config(\"ur5e_1\", q2, rgba=[0, 1, 0, 0.5], vis_name=\"goal\")"
   ],
   "metadata": {
    "collapsed": false
   }
  },
  {
   "cell_type": "code",
   "execution_count": 10,
   "outputs": [
    {
     "name": "stdout",
     "output_type": "stream",
     "text": [
      "planning motion...\n",
      "planning took  0.9247829914093018  seconds.\n"
     ]
    }
   ],
   "source": [
    "path = mp.plan_from_start_to_goal_config(\"ur5e_1\", q1, q2)"
   ],
   "metadata": {
    "collapsed": false
   }
  },
  {
   "cell_type": "code",
   "execution_count": 11,
   "outputs": [
    {
     "name": "stdout",
     "output_type": "stream",
     "text": [
      "[[0.03923, -1.76654, -2.27161, -2.19254, 0.40798, 3.07572], [-1.4923342460083975, -1.441611218902493, -1.369542810248438, 3.413669664574308, 0.686664681239826, 1.291348697700891], [-0.06798, -1.84265, -2.65451, 1.33179, 1.61574, 1.64959]]\n"
     ]
    }
   ],
   "source": [
    "print(path)"
   ],
   "metadata": {
    "collapsed": false
   }
  },
  {
   "cell_type": "code",
   "execution_count": 12,
   "outputs": [],
   "source": [
    "for p in path:\n",
    "    mp.update_robot_config(\"ur5e_1\", p)\n",
    "    time.sleep(1)"
   ],
   "metadata": {
    "collapsed": false
   }
  },
  {
   "cell_type": "markdown",
   "source": [
    "will animate later\n",
    "can't plan to or from collision..."
   ],
   "metadata": {
    "collapsed": false
   }
  },
  {
   "cell_type": "code",
   "execution_count": 13,
   "outputs": [
    {
     "name": "stderr",
     "output_type": "stream",
     "text": [
      "C:\\Study\\master\\clair-robotics-stack\\lib\\site-packages\\klampt\\plan\\robotplanning.py:252: UserWarning: Goal configuration fails ['obj collision 2 table2', 'obj collision 5 keep_out_from_ur3_zone']\n",
      "  warnings.warn(\"Goal configuration fails {}\".format(gfailures))\n"
     ]
    },
    {
     "ename": "AttributeError",
     "evalue": "'NoneType' object has no attribute 'space'",
     "output_type": "error",
     "traceback": [
      "\u001B[1;31m---------------------------------------------------------------------------\u001B[0m",
      "\u001B[1;31mAttributeError\u001B[0m                            Traceback (most recent call last)",
      "Cell \u001B[1;32mIn[13], line 1\u001B[0m\n\u001B[1;32m----> 1\u001B[0m path \u001B[38;5;241m=\u001B[39m \u001B[43mmp\u001B[49m\u001B[38;5;241;43m.\u001B[39;49m\u001B[43mplan_from_start_to_goal_config\u001B[49m\u001B[43m(\u001B[49m\u001B[38;5;124;43m\"\u001B[39;49m\u001B[38;5;124;43mur5e_1\u001B[39;49m\u001B[38;5;124;43m\"\u001B[39;49m\u001B[43m,\u001B[49m\u001B[43m \u001B[49m\u001B[43mq1\u001B[49m\u001B[43m,\u001B[49m\u001B[43m \u001B[49m\u001B[43mcollision_config\u001B[49m\u001B[43m)\u001B[49m\n",
      "File \u001B[1;32mC:\\Study\\clair-robotics-stack\\ur_lab\\motion_planning\\abstract_motion_planner.py:184\u001B[0m, in \u001B[0;36mAbstractMotionPlanner.plan_from_start_to_goal_config\u001B[1;34m(self, robot_name, start_config, goal_config, max_time, max_length_to_distance_ratio)\u001B[0m\n\u001B[0;32m    181\u001B[0m goal_config_klampt \u001B[38;5;241m=\u001B[39m \u001B[38;5;28mself\u001B[39m\u001B[38;5;241m.\u001B[39mconfig6d_to_klampt(goal_config)\n\u001B[0;32m    183\u001B[0m robot \u001B[38;5;241m=\u001B[39m \u001B[38;5;28mself\u001B[39m\u001B[38;5;241m.\u001B[39mrobot_name_mapping[robot_name]\n\u001B[1;32m--> 184\u001B[0m path \u001B[38;5;241m=\u001B[39m \u001B[38;5;28;43mself\u001B[39;49m\u001B[38;5;241;43m.\u001B[39;49m\u001B[43m_plan_from_start_to_goal_config_klampt\u001B[49m\u001B[43m(\u001B[49m\u001B[43mrobot\u001B[49m\u001B[43m,\u001B[49m\u001B[43m \u001B[49m\u001B[43mstart_config_klampt\u001B[49m\u001B[43m,\u001B[49m\u001B[43m \u001B[49m\u001B[43mgoal_config_klampt\u001B[49m\u001B[43m,\u001B[49m\n\u001B[0;32m    185\u001B[0m \u001B[43m                                                   \u001B[49m\u001B[43mmax_time\u001B[49m\u001B[43m,\u001B[49m\u001B[43m \u001B[49m\u001B[43mmax_length_to_distance_ratio\u001B[49m\u001B[43m)\u001B[49m\n\u001B[0;32m    187\u001B[0m \u001B[38;5;28;01mreturn\u001B[39;00m \u001B[38;5;28mself\u001B[39m\u001B[38;5;241m.\u001B[39mpath_klampt_to_config6d(path)\n",
      "File \u001B[1;32mC:\\Study\\clair-robotics-stack\\ur_lab\\motion_planning\\abstract_motion_planner.py:200\u001B[0m, in \u001B[0;36mAbstractMotionPlanner._plan_from_start_to_goal_config_klampt\u001B[1;34m(self, robot, start_config, goal_config, max_time, max_length_to_distance_ratio)\u001B[0m\n\u001B[0;32m    194\u001B[0m robot\u001B[38;5;241m.\u001B[39msetConfig(start_config)\n\u001B[0;32m    196\u001B[0m planner \u001B[38;5;241m=\u001B[39m robotplanning\u001B[38;5;241m.\u001B[39mplan_to_config(\u001B[38;5;28mself\u001B[39m\u001B[38;5;241m.\u001B[39mworld, robot, goal_config,\n\u001B[0;32m    197\u001B[0m                                        \u001B[38;5;66;03m# ignore_collisions=[('keep_out_from_ur3_zone', 'table2')],\u001B[39;00m\n\u001B[0;32m    198\u001B[0m                                        \u001B[38;5;66;03m# extraConstraints=\u001B[39;00m\n\u001B[0;32m    199\u001B[0m                                        \u001B[38;5;241m*\u001B[39m\u001B[38;5;241m*\u001B[39m\u001B[38;5;28mself\u001B[39m\u001B[38;5;241m.\u001B[39msettings)\n\u001B[1;32m--> 200\u001B[0m \u001B[43mplanner\u001B[49m\u001B[38;5;241;43m.\u001B[39;49m\u001B[43mspace\u001B[49m\u001B[38;5;241m.\u001B[39meps \u001B[38;5;241m=\u001B[39m \u001B[38;5;28mself\u001B[39m\u001B[38;5;241m.\u001B[39meps\n\u001B[0;32m    202\u001B[0m \u001B[38;5;66;03m# before planning, check if a direct path is possible, then no need to plan\u001B[39;00m\n\u001B[0;32m    203\u001B[0m \u001B[38;5;28;01mif\u001B[39;00m \u001B[38;5;28mself\u001B[39m\u001B[38;5;241m.\u001B[39m_is_direct_path_possible(planner, start_config, goal_config):\n",
      "\u001B[1;31mAttributeError\u001B[0m: 'NoneType' object has no attribute 'space'"
     ]
    }
   ],
   "source": [
    "path = mp.plan_from_start_to_goal_config(\"ur5e_1\", q1, collision_config)"
   ],
   "metadata": {
    "collapsed": false
   }
  },
  {
   "cell_type": "markdown",
   "source": [
    " if there is a direct path, it is checked and ...\n",
    " > ``NOTE: ``"
   ],
   "metadata": {
    "collapsed": false
   }
  },
  {
   "cell_type": "markdown",
   "source": [
    "## Kinematics\n",
    "> ``NOTE: In world coordinates!!!``"
   ],
   "metadata": {
    "collapsed": false
   }
  },
  {
   "cell_type": "code",
   "execution_count": 14,
   "outputs": [
    {
     "name": "stdout",
     "output_type": "stream",
     "text": [
      "Rotation matrix:\n",
      "[[-1.00000000e+00  0.00000000e+00  1.79489988e-09]\n",
      " [-1.79489988e-09  0.00000000e+00 -1.00000000e+00]\n",
      " [ 0.00000000e+00 -1.00000000e+00  0.00000000e+00]]\n",
      "Translation vector:\n",
      "[1.7917044553320089e-10, -0.383172, 1.079229]\n"
     ]
    }
   ],
   "source": [
    "R_flat, t = mp.get_forward_kinematics(\"ur5e_1\", [0, -np.pi/2, 0, -np.pi/2, 0, 0])\n",
    "R = np.array(R_flat).reshape(3, 3)\n",
    "\n",
    "print(\"Rotation matrix:\")\n",
    "print(R)\n",
    "print(\"Translation vector:\")\n",
    "print(t)"
   ],
   "metadata": {
    "collapsed": false,
    "ExecuteTime": {
     "end_time": "2025-03-02T11:32:32.954847400Z",
     "start_time": "2025-03-02T11:32:32.891077900Z"
    }
   }
  },
  {
   "cell_type": "code",
   "execution_count": 15,
   "outputs": [
    {
     "name": "stdout",
     "output_type": "stream",
     "text": [
      "[1.3003001799472707, -1.5112575636413743, 1.0822593860483003, -1.1417993995448024, -1.5707961172280605, 2.871096486077435]\n"
     ]
    }
   ],
   "source": [
    "goal_position = np.array([0, -0.5, 0.5])\n",
    "goal_orientation_matrix = np.array([[1, 0, 0], [0, -1, 0], [0, 0, -1]])\n",
    "goal_transform = (goal_orientation_matrix.flatten(), goal_position)\n",
    "config = mp.ik_solve(\"ur5e_1\", goal_transform)\n",
    "print(config)\n",
    "if config is not None:\n",
    "    mp.update_robot_config(\"ur5e_1\", config)"
   ],
   "metadata": {
    "collapsed": false,
    "ExecuteTime": {
     "end_time": "2025-03-02T11:32:33.166504200Z",
     "start_time": "2025-03-02T11:32:33.084177200Z"
    }
   }
  },
  {
   "cell_type": "code",
   "execution_count": 16,
   "outputs": [
    {
     "name": "stdout",
     "output_type": "stream",
     "text": [
      "[-0.76, -1.33, 0.0]\n"
     ]
    }
   ],
   "source": [
    "from ur_lab.motion_planning.geometry_and_transforms import GeometryAndTransforms\n",
    "gt = GeometryAndTransforms(mp)\n",
    "\n",
    "ur5e_2_position = gt.point_robot_to_world(\"ur5e_2\", [0,0,0])\n",
    "print(ur5e_2_position)"
   ],
   "metadata": {
    "collapsed": false,
    "ExecuteTime": {
     "end_time": "2025-03-02T11:32:33.839252600Z",
     "start_time": "2025-03-02T11:32:33.248715600Z"
    }
   }
  },
  {
   "cell_type": "code",
   "execution_count": 17,
   "outputs": [],
   "source": [
    "above_ur5e_2_position = ur5e_2_position.copy()\n",
    "above_ur5e_2_position[2] += 1\n",
    "mp.show_point_vis(above_ur5e_2_position, rgba=[0, 1, 0, 0.5])\n",
    "mp.show_point_vis([0,0,1], name=\"above origin\", rgba=[1, 0, 0, 0.5])"
   ],
   "metadata": {
    "collapsed": false,
    "ExecuteTime": {
     "end_time": "2025-03-02T11:32:33.940094700Z",
     "start_time": "2025-03-02T11:32:33.817704400Z"
    }
   }
  },
  {
   "cell_type": "code",
   "execution_count": 18,
   "outputs": [],
   "source": [
    "%pycat ../motion_planning/motion_planner.py"
   ],
   "metadata": {
    "collapsed": false,
    "ExecuteTime": {
     "end_time": "2025-03-02T11:32:34.161960300Z",
     "start_time": "2025-03-02T11:32:33.942095400Z"
    }
   }
  },
  {
   "cell_type": "code",
   "execution_count": 19,
   "outputs": [],
   "source": [
    "%more ../motion_planning/klampt_world.xml"
   ],
   "metadata": {
    "collapsed": false,
    "ExecuteTime": {
     "end_time": "2025-03-02T11:32:34.295413800Z",
     "start_time": "2025-03-02T11:32:34.156971200Z"
    }
   }
  },
  {
   "cell_type": "markdown",
   "source": [
    "http://motion.cs.illinois.edu/software/klampt/latest/pyklampt_docs/\n"
   ],
   "metadata": {
    "collapsed": false
   }
  },
  {
   "cell_type": "code",
   "execution_count": 24,
   "outputs": [],
   "source": [
    "def destroy_mp_and_reset_vis(mp):\n",
    "    '''\n",
    "    Only for use here where we create multiple motion planners...\n",
    "    '''\n",
    "\n",
    "    AbstractMotionPlanner.vis_initialized = False\n",
    "    from klampt import vis\n",
    "    vis.clear()\n",
    "    del mp"
   ],
   "metadata": {
    "collapsed": false,
    "ExecuteTime": {
     "end_time": "2025-03-02T11:34:37.280289900Z",
     "start_time": "2025-03-02T11:34:37.183417500Z"
    }
   }
  },
  {
   "cell_type": "code",
   "execution_count": 21,
   "outputs": [],
   "source": [
    "example_world_file = \"\"\"\n",
    "<?xml version=\"1.0\" encoding=\"UTF-8\"?>\n",
    "<world>\n",
    "\n",
    "  <robot name=\"robot_ceiling\" file=\"../motion_planning/ur5e_rob/ur5e_hires.rob\" position=\"0 0 1.99\" rotateRPY=\"0 3.14 0\"/>\n",
    "  <robot name=\"robot_table1\" file=\"../motion_planning/ur5e_rob/ur5e_hires.rob\" position=\"0.7 0.7 0.01\" rotateRPY=\"0 0 0\"/>\n",
    "  <robot name=\"robot_table2\" file=\"../motion_planning/ur5e_rob/ur5e_hires.rob\" position=\"-0.7 -0.7 0.01\" rotateRPY=\"0 0 0\"/>\n",
    "\n",
    "\n",
    "  <rigidObject name=\"ceiling\"  position=\"0 0 2.0\">\n",
    "    <geometry mesh=\"../motion_planning/objects/cube.off\" scale=\"2 2 0.01\" translate=\"0 0 0\" />\n",
    "  </rigidObject>\n",
    "\n",
    "   <rigidObject name=\"table\"  position=\"0 0 0\">\n",
    "    <geometry mesh=\"../motion_planning/objects/cube.off\" scale=\"2 2 0.01\" translate=\"0 0 0\" />\n",
    "  </rigidObject>\n",
    "\n",
    "</world>\n",
    "\n",
    "\"\"\"\n",
    "\n",
    "# save to file:\n",
    "with open(\"example_klampt_world.xml\", \"w\") as f:\n",
    "    f.write(example_world_file)"
   ],
   "metadata": {
    "collapsed": false,
    "ExecuteTime": {
     "end_time": "2025-03-02T11:32:40.556342300Z",
     "start_time": "2025-03-02T11:32:40.496306500Z"
    }
   }
  },
  {
   "cell_type": "code",
   "execution_count": 22,
   "outputs": [],
   "source": [
    "from ur_lab.motion_planning.abstract_motion_planner import AbstractMotionPlanner\n",
    "\n",
    "class MyMotionPlanner(AbstractMotionPlanner):\n",
    "\n",
    "    def _get_klampt_world_path(self):\n",
    "        return \"example_klampt_world.xml\"\n",
    "\n",
    "    def _add_attachments(self, robot, attachments):\n",
    "        pass"
   ],
   "metadata": {
    "collapsed": false,
    "ExecuteTime": {
     "end_time": "2025-03-02T11:32:44.945405500Z",
     "start_time": "2025-03-02T11:32:44.890162300Z"
    }
   }
  },
  {
   "cell_type": "code",
   "execution_count": 23,
   "outputs": [],
   "source": [
    "\n",
    "my_mp = MyMotionPlanner()\n",
    "my_mp.visualize()"
   ],
   "metadata": {
    "collapsed": false,
    "ExecuteTime": {
     "end_time": "2025-03-02T11:32:48.493285900Z",
     "start_time": "2025-03-02T11:32:48.328167400Z"
    }
   }
  },
  {
   "cell_type": "code",
   "execution_count": 25,
   "outputs": [],
   "source": [
    "my_mp.update_robot_config(\"robot_ceiling\", [0, 0, 0, 0, 0, 0])"
   ],
   "metadata": {
    "collapsed": false,
    "ExecuteTime": {
     "end_time": "2025-03-02T11:35:08.365579400Z",
     "start_time": "2025-03-02T11:35:08.296370300Z"
    }
   }
  },
  {
   "cell_type": "code",
   "execution_count": 27,
   "outputs": [
    {
     "data": {
      "text/plain": "dict_keys(['robot_ceiling', 'robot_table1', 'robot_table2'])"
     },
     "execution_count": 27,
     "metadata": {},
     "output_type": "execute_result"
    }
   ],
   "source": [
    "my_mp.robot_name_mapping.keys()"
   ],
   "metadata": {
    "collapsed": false,
    "ExecuteTime": {
     "end_time": "2025-03-02T11:35:46.485039600Z",
     "start_time": "2025-03-02T11:35:46.382302300Z"
    }
   }
  },
  {
   "cell_type": "markdown",
   "source": [
    "TODO outline:\n",
    "\n",
    "animate path as debugging tool without robots"
   ],
   "metadata": {
    "collapsed": false
   }
  },
  {
   "cell_type": "code",
   "execution_count": null,
   "outputs": [],
   "source": [],
   "metadata": {
    "collapsed": false
   }
  }
 ],
 "metadata": {
  "kernelspec": {
   "name": "python3",
   "language": "python",
   "display_name": "Python 3 (ipykernel)"
  }
 },
 "nbformat": 5,
 "nbformat_minor": 9
}
