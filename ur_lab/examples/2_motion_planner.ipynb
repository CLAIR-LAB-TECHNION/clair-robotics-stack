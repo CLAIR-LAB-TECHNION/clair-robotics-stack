{
 "cells": [
  {
   "metadata": {},
   "cell_type": "markdown",
   "source": [
    " # ==Important Note==\n",
    " The motion planner visualization might not work in the notebook for you. If it doesn't work, you can run the code in a python script alongside reading the notebook."
   ],
   "id": "df00ae6d78cd347f"
  },
  {
   "metadata": {
    "ExecuteTime": {
     "end_time": "2025-02-19T12:24:38.475202Z",
     "start_time": "2025-02-19T12:24:38.450908Z"
    }
   },
   "cell_type": "code",
   "source": [
    "from ur_lab.motion_planning.motion_planner import MotionPlanner\n",
    "\n",
    "mp = MotionPlanner()"
   ],
   "id": "63ed52b518646529",
   "outputs": [
    {
     "name": "stdout",
     "output_type": "stream",
     "text": [
      "RobParser: Reading robot file /home/clair01/PycharmProjects/clair-robotics-stack/ur_lab/motion_planning/ur5e_rob/ur5e_hires.rob...\n",
      "RobParser:    Parsing robot file, 8 links read...\n",
      "RobParser: Loaded geometries in time 0.009654s, 11028 total primitive elements\n",
      "RobParser: Done loading robot file /home/clair01/PycharmProjects/clair-robotics-stack/ur_lab/motion_planning/ur5e_rob/ur5e_hires.rob\n",
      "RobParser: Reading robot file /home/clair01/PycharmProjects/clair-robotics-stack/ur_lab/motion_planning/ur5e_rob/ur5e_hires.rob...\n",
      "RobParser:    Parsing robot file, 8 links read...\n",
      "RobParser: Loaded geometries in time 0.004998s, 11028 total primitive elements\n",
      "RobParser: Done loading robot file /home/clair01/PycharmProjects/clair-robotics-stack/ur_lab/motion_planning/ur5e_rob/ur5e_hires.rob\n"
     ]
    }
   ],
   "execution_count": 2
  },
  {
   "metadata": {
    "ExecuteTime": {
     "end_time": "2025-02-19T12:24:53.137776Z",
     "start_time": "2025-02-19T12:24:53.030909Z"
    }
   },
   "cell_type": "code",
   "source": "mp.visualize()",
   "id": "ef189006858014c6",
   "outputs": [
    {
     "name": "stdout",
     "output_type": "stream",
     "text": [
      "*** klampt.vis: using GLUT as the visualization backend ***\n",
      "***      Some functionality may not be available!       ***\n",
      "First show(), window title Klamp't visualizer (/home/clair01/PycharmProjects/clair-robotics-stack/.venv/lib/python3.10/site-packages/ipykernel_launcher.py)\n",
      "GLUTWindowManager.show(): first window shown, starting the visualization thread\n",
      "GLUTWindowManager.run_app_thread: creating window with name Klamp't visualizer (/home/clair01/PycharmProjects/clair-robotics-stack/.venv/lib/python3.10/site-packages/ipykernel_launcher.py) and status shown\n",
      "GLUTBackend.createWindow Klamp't visualizer (/home/clair01/PycharmProjects/clair-robotics-stack/.venv/lib/python3.10/site-packages/ipykernel_launcher.py)\n",
      "Windows [\"Klamp't visualizer (/home/clair01/PycharmProjects/clair-robotics-stack/.venv/lib/python3.10/site-packages/ipykernel_launcher.py)\"]\n",
      "GLUTBackend: run with windows [\"Klamp't visualizer (/home/clair01/PycharmProjects/clair-robotics-stack/.venv/lib/python3.10/site-packages/ipykernel_launcher.py)\"]\n",
      "Calling glutCreateWindow Klamp't visualizer (/home/clair01/PycharmProjects/clair-robotics-stack/.venv/lib/python3.10/site-packages/ipykernel_launcher.py)\n",
      "GLUTWindow Klamp't visualizer (/home/clair01/PycharmProjects/clair-robotics-stack/.venv/lib/python3.10/site-packages/ipykernel_launcher.py) Initialized\n"
     ]
    },
    {
     "name": "stderr",
     "output_type": "stream",
     "text": [
      "/home/clair01/PycharmProjects/clair-robotics-stack/.venv/lib/python3.10/site-packages/klampt/vis/visualization.py:704: UserWarning: klampt.visualization: QT is not available, falling back to poorer\n",
      "GLUT interface.  Returning to another GLUT thread will not work\n",
      "properly.\n",
      "  warnings.warn(\"klampt.visualization: QT is not available, falling back to poorer\\nGLUT interface.  Returning to another GLUT thread will not work\\nproperly.\")\n"
     ]
    }
   ],
   "execution_count": 3
  },
  {
   "metadata": {},
   "cell_type": "markdown",
   "source": [
    "TODO outline:\n",
    "\n",
    "Config feasibile\n",
    "visualization\n",
    "Compute path\n",
    "forward kinematics and transofrms\n",
    "inverse kinematics\n",
    "geometry and transforms\n",
    "editing the klampt world and extending the motion planner\n",
    "animate path as debugging tool without robots"
   ],
   "id": "c63cfb6cbdd96826"
  },
  {
   "metadata": {},
   "cell_type": "code",
   "outputs": [],
   "execution_count": null,
   "source": "",
   "id": "683494921491e5b9"
  }
 ],
 "metadata": {
  "kernelspec": {
   "name": "python3",
   "language": "python",
   "display_name": "Python 3 (ipykernel)"
  }
 },
 "nbformat": 5,
 "nbformat_minor": 9
}
